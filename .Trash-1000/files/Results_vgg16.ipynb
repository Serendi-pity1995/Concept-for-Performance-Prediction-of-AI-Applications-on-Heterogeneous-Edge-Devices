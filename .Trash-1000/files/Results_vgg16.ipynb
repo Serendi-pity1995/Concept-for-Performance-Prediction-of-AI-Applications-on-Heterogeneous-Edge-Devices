{
 "cells": [
  {
   "cell_type": "code",
   "execution_count": 3,
   "id": "64c93b7f",
   "metadata": {},
   "outputs": [
    {
     "name": "stdout",
     "output_type": "stream",
     "text": [
      "                            OLS Regression Results                            \n",
      "==============================================================================\n",
      "Dep. Variable:         Execution_time   R-squared:                       0.995\n",
      "Model:                            OLS   Adj. R-squared:                  0.995\n",
      "Method:                 Least Squares   F-statistic:                 1.027e+04\n",
      "Date:                Sun, 13 Mar 2022   Prob (F-statistic):           1.09e-56\n",
      "Time:                        12:11:42   Log-Likelihood:                -82.760\n",
      "No. Observations:                  49   AIC:                             169.5\n",
      "Df Residuals:                      47   BIC:                             173.3\n",
      "Df Model:                           1                                         \n",
      "Covariance Type:            nonrobust                                         \n",
      "==============================================================================\n",
      "                 coef    std err          t      P>|t|      [0.025      0.975]\n",
      "------------------------------------------------------------------------------\n",
      "Intercept      3.1271      0.319      9.816      0.000       2.486       3.768\n",
      "FLOPs          2.6222      0.026    101.355      0.000       2.570       2.674\n",
      "==============================================================================\n",
      "Omnibus:                        1.268   Durbin-Watson:                   0.464\n",
      "Prob(Omnibus):                  0.531   Jarque-Bera (JB):                1.230\n",
      "Skew:                           0.265   Prob(JB):                        0.541\n",
      "Kurtosis:                       2.434   Cond. No.                         20.6\n",
      "==============================================================================\n",
      "\n",
      "Notes:\n",
      "[1] Standard Errors assume that the covariance matrix of the errors is correctly specified.\n",
      "0.9954456293665931 0.9953487278637546\n"
     ]
    },
    {
     "data": {
      "text/plain": [
       "<matplotlib.collections.PathCollection at 0x7fd5aa264190>"
      ]
     },
     "execution_count": 3,
     "metadata": {},
     "output_type": "execute_result"
    },
    {
     "data": {
      "image/png": "[encoded data removed]",
      "text/plain": [
       "<Figure size 432x288 with 1 Axes>"
      ]
     },
     "metadata": {
      "needs_background": "light"
     },
     "output_type": "display_data"
    }
   ],
   "source": [
    "#the relationship between Gops,Input_size and exection_time\n",
    "import pandas\n",
    "import statsmodels.formula.api as sm\n",
    "import matplotlib.pyplot as plt\n",
    "df = pandas.read_csv(\"model_vgg16_result.csv\")\n",
    "x1 = df[\"FLOPs\"]\n",
    "x2 = df[\"Total_params\"]\n",
    "x3 = df[\"input_size\"]\n",
    "y = df[\"Execution_time\"]\n",
    "\n",
    "result = sm.ols(formula=\"Execution_time ~  FLOPs \", data=df).fit()\n",
    "print (result.summary())\n",
    "print (result.rsquared, result.rsquared_adj)\n",
    "plt.xlabel(\"FLOPs(G)\")\n",
    "plt.ylabel(\"Execution_time(ms)\")\n",
    "plt.title(\"The relationship between FLOPs and Execution_time for VGG16\")\n",
    "plt.scatter(x1, y)\n"
   ]
  },
  {
   "cell_type": "code",
   "execution_count": 5,
   "id": "dcd52f06",
   "metadata": {},
   "outputs": [
    {
     "name": "stdout",
     "output_type": "stream",
     "text": [
      "                            OLS Regression Results                            \n",
      "==============================================================================\n",
      "Dep. Variable:         Execution_time   R-squared:                       0.995\n",
      "Model:                            OLS   Adj. R-squared:                  0.995\n",
      "Method:                 Least Squares   F-statistic:                 1.030e+04\n",
      "Date:                Sun, 13 Mar 2022   Prob (F-statistic):           1.02e-56\n",
      "Time:                        12:14:58   Log-Likelihood:                -82.693\n",
      "No. Observations:                  49   AIC:                             169.4\n",
      "Df Residuals:                      47   BIC:                             173.2\n",
      "Df Model:                           1                                         \n",
      "Covariance Type:            nonrobust                                         \n",
      "================================================================================\n",
      "                   coef    std err          t      P>|t|      [0.025      0.975]\n",
      "--------------------------------------------------------------------------------\n",
      "Intercept      -93.2669      1.219    -76.491      0.000     -95.720     -90.814\n",
      "Total_params     6.1580      0.061    101.495      0.000       6.036       6.280\n",
      "==============================================================================\n",
      "Omnibus:                        1.171   Durbin-Watson:                   0.458\n",
      "Prob(Omnibus):                  0.557   Jarque-Bera (JB):                1.156\n",
      "Skew:                           0.252   Prob(JB):                        0.561\n",
      "Kurtosis:                       2.442   Cond. No.                         129.\n",
      "==============================================================================\n",
      "\n",
      "Notes:\n",
      "[1] Standard Errors assume that the covariance matrix of the errors is correctly specified.\n",
      "0.9954581343485573 0.9953614989091649\n"
     ]
    },
    {
     "data": {
      "text/plain": [
       "<matplotlib.collections.PathCollection at 0x7fd5aa1729d0>"
      ]
     },
     "execution_count": 5,
     "metadata": {},
     "output_type": "execute_result"
    },
    {
     "data": {
      "image/png": "[encoded data removed]",
      "text/plain": [
       "<Figure size 432x288 with 1 Axes>"
      ]
     },
     "metadata": {
      "needs_background": "light"
     },
     "output_type": "display_data"
    }
   ],
   "source": [
    "#the relationship between Gops,Input_size and exection_time\n",
    "import pandas\n",
    "import statsmodels.formula.api as sm\n",
    "import matplotlib.pyplot as plt\n",
    "df = pandas.read_csv(\"model_vgg16_result.csv\")\n",
    "x1 = df[\"FLOPs\"]\n",
    "x2 = df[\"Total_params\"]\n",
    "x3 = df[\"input_size\"]\n",
    "y = df[\"Execution_time\"]\n",
    "\n",
    "result = sm.ols(formula=\"Execution_time ~  Total_params \", data=df).fit()\n",
    "print (result.summary())\n",
    "print (result.rsquared, result.rsquared_adj)\n",
    "plt.xlabel(\"Total_params(M)\")\n",
    "plt.ylabel(\"Execution_time(ms)\")\n",
    "plt.title(\"The relationship between Total_params and Execution_time for VGG16\")\n",
    "plt.scatter(x2, y)"
   ]
  },
  {
   "cell_type": "code",
   "execution_count": 7,
   "id": "286e397c",
   "metadata": {},
   "outputs": [
    {
     "name": "stdout",
     "output_type": "stream",
     "text": [
      "                            OLS Regression Results                            \n",
      "==============================================================================\n",
      "Dep. Variable:         Execution_time   R-squared:                       0.995\n",
      "Model:                            OLS   Adj. R-squared:                  0.995\n",
      "Method:                 Least Squares   F-statistic:                 1.027e+04\n",
      "Date:                Sun, 13 Mar 2022   Prob (F-statistic):           1.09e-56\n",
      "Time:                        12:17:32   Log-Likelihood:                -82.760\n",
      "No. Observations:                  49   AIC:                             169.5\n",
      "Df Residuals:                      47   BIC:                             173.3\n",
      "Df Model:                           1                                         \n",
      "Covariance Type:            nonrobust                                         \n",
      "==============================================================================\n",
      "                 coef    std err          t      P>|t|      [0.025      0.975]\n",
      "------------------------------------------------------------------------------\n",
      "Intercept      3.1400      0.318      9.859      0.000       2.499       3.781\n",
      "input_size     0.0016   1.56e-05    101.356      0.000       0.002       0.002\n",
      "==============================================================================\n",
      "Omnibus:                        1.249   Durbin-Watson:                   0.461\n",
      "Prob(Omnibus):                  0.535   Jarque-Bera (JB):                1.215\n",
      "Skew:                           0.262   Prob(JB):                        0.545\n",
      "Kurtosis:                       2.434   Cond. No.                     3.41e+04\n",
      "==============================================================================\n",
      "\n",
      "Notes:\n",
      "[1] Standard Errors assume that the covariance matrix of the errors is correctly specified.\n",
      "[2] The condition number is large, 3.41e+04. This might indicate that there are\n",
      "strong multicollinearity or other numerical problems.\n",
      "0.995445726702184 0.9953488272703156\n"
     ]
    },
    {
     "data": {
      "text/plain": [
       "<matplotlib.collections.PathCollection at 0x7fd5aa083b50>"
      ]
     },
     "execution_count": 7,
     "metadata": {},
     "output_type": "execute_result"
    },
    {
     "data": {
      "image/png": "[encoded data removed]",
      "text/plain": [
       "<Figure size 432x288 with 1 Axes>"
      ]
     },
     "metadata": {
      "needs_background": "light"
     },
     "output_type": "display_data"
    }
   ],
   "source": [
    "#the relationship between Gops,Input_size and exection_time\n",
    "import pandas\n",
    "import statsmodels.formula.api as sm\n",
    "import matplotlib.pyplot as plt\n",
    "df = pandas.read_csv(\"model_vgg16_result.csv\")\n",
    "x1 = df[\"FLOPs\"]\n",
    "x2 = df[\"Total_params\"]\n",
    "x3 = df[\"input_size\"]\n",
    "y = df[\"Execution_time\"]\n",
    "\n",
    "result = sm.ols(formula=\"Execution_time ~  input_size \", data=df).fit()\n",
    "print (result.summary())\n",
    "print (result.rsquared, result.rsquared_adj)\n",
    "plt.xlabel(\"input_size\")\n",
    "plt.ylabel(\"Execution_time(ms)\")\n",
    "plt.title(\"The relationship between input_size and Execution_time for VGG16\")\n",
    "plt.scatter(x3, y)"
   ]
  },
  {
   "cell_type": "code",
   "execution_count": 82,
   "id": "dfb71319",
   "metadata": {},
   "outputs": [],
   "source": [
    "## The following code is for extracting data only\n",
    "import pandas\n",
    "import csv\n",
    "df = pandas.read_csv(\"excution_time_zcu102.csv\")\n",
    "name = df[\"Name\"]\n",
    "for i in name:\n",
    "    i1 = i.rfind(\"_\")\n",
    "    i2 = i[:i1].rfind(\"_\")\n",
    "    i3 = i[:i2].rfind(\"_\")\n",
    "    if i[i2+1:i1][0] == \"0\":\n",
    "        i4 =i[:i3].rfind(\"_\")\n",
    "        size1 = int(i[i4+1:i3])\n",
    "        size2 = int(i[i3+1:i2])\n",
    "    else:\n",
    "        size1 = int(i[i3+1:i2])\n",
    "        size2 = int(i[i2+1:i1])\n",
    "    \n",
    "    with open(\"input_size.csv\",\"a+\") as csvfile:\n",
    "        writer = csv.writer(csvfile)\n",
    "        writer.writerows([[size1*size2],])\n",
    "\n",
    "            "
   ]
  },
  {
   "cell_type": "code",
   "execution_count": 78,
   "id": "110e4e35",
   "metadata": {},
   "outputs": [
    {
     "data": {
      "text/plain": [
       "'0'"
      ]
     },
     "execution_count": 78,
     "metadata": {},
     "output_type": "execute_result"
    }
   ],
   "source": [
    "import pandas\n",
    "import csv\n",
    "df = pandas.read_csv(\"excution_time_zcu102.csv\")\n",
    "name = df[\"Name\"]\n",
    "i1 = name[8].rfind(\"_\")\n",
    "i2 = name[8][:i1].rfind(\"_\")\n",
    "i3 = name[8][:i2].rfind(\"_\")\n",
    "#a=int(name[8][i3+1:i2])\n",
    "#b=int(name[8][i2+1:i1])\n",
    "name[8][i2+1:i1][0]"
   ]
  },
  {
   "cell_type": "code",
   "execution_count": 74,
   "id": "d009e7f1",
   "metadata": {},
   "outputs": [
    {
     "data": {
      "text/plain": [
       "'224'"
      ]
     },
     "execution_count": 74,
     "metadata": {},
     "output_type": "execute_result"
    }
   ],
   "source": [
    "name[1][i2+1:i1]"
   ]
  },
  {
   "cell_type": "code",
   "execution_count": null,
   "id": "d23caa18",
   "metadata": {},
   "outputs": [],
   "source": []
  }
 ],
 "metadata": {
  "kernelspec": {
   "display_name": "Python 3 (ipykernel)",
   "language": "python",
   "name": "python3"
  },
  "language_info": {
   "codemirror_mode": {
    "name": "ipython",
    "version": 3
   },
   "file_extension": ".py",
   "mimetype": "text/x-python",
   "name": "python",
   "nbconvert_exporter": "python",
   "pygments_lexer": "ipython3",
   "version": "3.7.12"
  }
 },
 "nbformat": 4,
 "nbformat_minor": 5
}
