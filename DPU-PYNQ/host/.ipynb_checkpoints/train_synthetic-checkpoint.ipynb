{
 "cells": [
  {
   "cell_type": "code",
   "execution_count": null,
   "id": "66a348c3",
   "metadata": {},
   "outputs": [],
   "source": [
    "from keras.layers import *\n",
    "from keras.models import Model\n",
    "from keras import optimizers\n",
    "import numpy as np\n",
    "from tensorflow_model_optimization.quantization.keras import vitis_quantize\n",
    "import os\n",
    "from keras import backend as K\n",
    "\n",
    "\n",
    "shape_range =range(96,512,32)\n",
    "for shape_x in shape_range:\n",
    "    shape_y = shape_x\n",
    "    X_train=np.random.randint(0,255,size=[60,shape_x,shape_y,1])\n",
    "    Y_train=np.random.randint(0,10,size=[60,])\n",
    "    X_test=np.random.randint(0,255,size=[60,shape_x,shape_y,1])\n",
    "    Y_test=np.random.randint(0,10,size=[60,])\n",
    "    X_train = X_train.astype('float32')\n",
    "    X_test = X_test.astype('float32')\n",
    "    X_train /= 255.0\n",
    "    X_test /= 255.0\n",
    "    \n",
    "    inputs = tf.keras.Input(shape=(shape_x,shape_y,1))\n",
    "    x = tf.keras.layers.Conv2D(32, (3,3), activation='relu')(inputs)\n",
    "    x = tf.keras.layers.MaxPooling2D((2,2))(x)\n",
    "    x = tf.keras.layers.Conv2D(32, (3,3), activation='relu')(x)\n",
    "    x = tf.keras.layers.MaxPooling2D((2,2))(x)\n",
    "    x = tf.keras.layers.Flatten()(x)\n",
    "    x = tf.keras.layers.Dense(1024, activation='relu')(x)\n",
    "    x = tf.keras.layers.Dense(512, activation='relu')(x)\n",
    "    x = tf.keras.layers.Dense(256, activation='relu')(x)\n",
    "    outputs = tf.keras.layers.Dense(10, activation='softmax')(x)\n",
    "    \n",
    "    model = tf.keras.Model(inputs=inputs, outputs=outputs, name='mnist_classifier')\n",
    "    model.summary()\n",
    "    print(len(model.layers))\n",
    "    #model.compile(optimizer='adam', loss='sparse_categorical_crossentropy', metrics=['accuracy'])\n",
    "    #history = model.fit(X_train, Y_train, epochs=1)\n",
    "    quantizer = vitis_quantize.VitisQuantizer(model)\n",
    "    quantized_model = quantizer.quantize_model(calib_dataset = X_test[1:10], weight_bit=8, activation_bit=8)\n",
    "    quantized_model.compile(loss='sparse_categorical_crossentropy', metrics=[\"accuracy\"])\n",
    "    quantized_model.save('quantized.h5')\n",
    "    !vai_c_tensorflow2 \\\n",
    "    --model ./quantized.h5 \\\n",
    "    --arch ./arch.json \\\n",
    "    --output_dir ./xmodel_simple \\\n",
    "    --net_name deploy\n",
    "    os.rename(\"./xmodel_simple/deploy.xmodel\",\"./xmodel_simple/simple_{shape_x}_{shape_y}.xmodel\".format(shape_x=shape_x,shape_y=shape_y))\n",
    "\n"
   ]
  }
 ],
 "metadata": {
  "kernelspec": {
   "display_name": "Python 3 (ipykernel)",
   "language": "python",
   "name": "python3"
  },
  "language_info": {
   "codemirror_mode": {
    "name": "ipython",
    "version": 3
   },
   "file_extension": ".py",
   "mimetype": "text/x-python",
   "name": "python",
   "nbconvert_exporter": "python",
   "pygments_lexer": "ipython3",
   "version": "3.7.12"
  }
 },
 "nbformat": 4,
 "nbformat_minor": 5
}
