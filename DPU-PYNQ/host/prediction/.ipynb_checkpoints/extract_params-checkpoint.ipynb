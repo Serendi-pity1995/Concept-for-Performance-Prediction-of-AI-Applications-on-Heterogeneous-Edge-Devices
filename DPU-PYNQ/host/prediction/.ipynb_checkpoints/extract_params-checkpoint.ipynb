{
 "cells": [
  {
   "cell_type": "code",
   "execution_count": 1,
   "id": "107fee1c",
   "metadata": {},
   "outputs": [
    {
     "name": "stdout",
     "output_type": "stream",
     "text": [
      "                            OLS Regression Results                            \n",
      "==============================================================================\n",
      "Dep. Variable:         execution_time   R-squared:                       0.863\n",
      "Model:                            OLS   Adj. R-squared:                  0.860\n",
      "Method:                 Least Squares   F-statistic:                     318.0\n",
      "Date:                Wed, 02 Mar 2022   Prob (F-statistic):           2.56e-44\n",
      "Time:                        05:56:44   Log-Likelihood:                -527.60\n",
      "No. Observations:                 104   AIC:                             1061.\n",
      "Df Residuals:                     101   BIC:                             1069.\n",
      "Df Model:                           2                                         \n",
      "Covariance Type:            nonrobust                                         \n",
      "==============================================================================\n",
      "                 coef    std err          t      P>|t|      [0.025      0.975]\n",
      "------------------------------------------------------------------------------\n",
      "Intercept     -0.4274      4.411     -0.097      0.923      -9.178       8.323\n",
      "Gops           0.9906      0.079     12.474      0.000       0.833       1.148\n",
      "Input_size     0.0001   1.26e-05     11.507      0.000       0.000       0.000\n",
      "==============================================================================\n",
      "Omnibus:                       83.112   Durbin-Watson:                   2.308\n",
      "Prob(Omnibus):                  0.000   Jarque-Bera (JB):              811.327\n",
      "Skew:                           2.479   Prob(JB):                    6.65e-177\n",
      "Kurtosis:                      15.753   Cond. No.                     4.70e+05\n",
      "==============================================================================\n",
      "\n",
      "Notes:\n",
      "[1] Standard Errors assume that the covariance matrix of the errors is correctly specified.\n",
      "[2] The condition number is large, 4.7e+05. This might indicate that there are\n",
      "strong multicollinearity or other numerical problems.\n",
      "0.862973653968313 0.8602602609775866\n"
     ]
    },
    {
     "data": {
      "text/plain": [
       "Text(0.5, 1.0, 'The relationship between Total_params and Execution_time_zcu102')"
      ]
     },
     "execution_count": 1,
     "metadata": {},
     "output_type": "execute_result"
    },
    {
     "data": {
      "image/png": "[encoded data removed]",
      "text/plain": [
       "<Figure size 432x288 with 1 Axes>"
      ]
     },
     "metadata": {
      "needs_background": "light"
     },
     "output_type": "display_data"
    }
   ],
   "source": [
    "#the relationship between Gops,Input_size and exection_time\n",
    "import pandas\n",
    "import statsmodels.formula.api as sm\n",
    "import matplotlib.pyplot as plt\n",
    "df = pandas.read_csv(\"execution_time_zcu102.csv\")\n",
    "x1 = df[\"Gops\"]\n",
    "x2 = df[\"Input_size\"]\n",
    "y = df[\"execution_time\"]\n",
    "\n",
    "result = sm.ols(formula=\"execution_time ~ Gops + Input_size \", data=df).fit()\n",
    "print (result.summary())\n",
    "print (result.rsquared, result.rsquared_adj)\n",
    "plt.scatter(x1, y)\n",
    "plt.xlabel(\"Gops_per_image\")\n",
    "plt.ylabel(\"Execution_time_zcu102\")\n",
    "plt.title(\"The relationship between Total_params and Execution_time_zcu102\")"
   ]
  },
  {
   "cell_type": "code",
   "execution_count": 94,
   "id": "9a28f271",
   "metadata": {},
   "outputs": [
    {
     "name": "stdout",
     "output_type": "stream",
     "text": [
      "                            OLS Regression Results                            \n",
      "==============================================================================\n",
      "Dep. Variable:         execution_time   R-squared:                       0.674\n",
      "Model:                            OLS   Adj. R-squared:                  0.671\n",
      "Method:                 Least Squares   F-statistic:                     210.8\n",
      "Date:                Fri, 25 Feb 2022   Prob (F-statistic):           1.44e-26\n",
      "Time:                        05:43:17   Log-Likelihood:                -572.68\n",
      "No. Observations:                 104   AIC:                             1149.\n",
      "Df Residuals:                     102   BIC:                             1155.\n",
      "Df Model:                           1                                         \n",
      "Covariance Type:            nonrobust                                         \n",
      "==============================================================================\n",
      "                 coef    std err          t      P>|t|      [0.025      0.975]\n",
      "------------------------------------------------------------------------------\n",
      "Intercept     12.3749      6.557      1.887      0.062      -0.631      25.381\n",
      "Gops           1.4800      0.102     14.521      0.000       1.278       1.682\n",
      "==============================================================================\n",
      "Omnibus:                      130.090   Durbin-Watson:                   1.673\n",
      "Prob(Omnibus):                  0.000   Jarque-Bera (JB):             2932.803\n",
      "Skew:                           4.368   Prob(JB):                         0.00\n",
      "Kurtosis:                      27.505   Cond. No.                         71.5\n",
      "==============================================================================\n",
      "\n",
      "Notes:\n",
      "[1] Standard Errors assume that the covariance matrix of the errors is correctly specified.\n",
      "0.6739606653294969 0.6707642012640999\n"
     ]
    },
    {
     "data": {
      "text/plain": [
       "<matplotlib.collections.PathCollection at 0x7f5924386890>"
      ]
     },
     "execution_count": 94,
     "metadata": {},
     "output_type": "execute_result"
    },
    {
     "data": {
      "image/png": "[encoded data removed]",
      "text/plain": [
       "<Figure size 432x288 with 1 Axes>"
      ]
     },
     "metadata": {
      "needs_background": "light"
     },
     "output_type": "display_data"
    }
   ],
   "source": [
    "#the relationship between Gops and exection_time\n",
    "result = sm.ols(formula=\"execution_time ~ Gops \", data=df).fit()\n",
    "print (result.summary())\n",
    "print (result.rsquared, result.rsquared_adj)\n",
    "plt.scatter(x1, y)"
   ]
  },
  {
   "cell_type": "code",
   "execution_count": 93,
   "id": "d88454cf",
   "metadata": {},
   "outputs": [
    {
     "name": "stdout",
     "output_type": "stream",
     "text": [
      "                            OLS Regression Results                            \n",
      "==============================================================================\n",
      "Dep. Variable:         execution_time   R-squared:                       0.652\n",
      "Model:                            OLS   Adj. R-squared:                  0.648\n",
      "Method:                 Least Squares   F-statistic:                     191.0\n",
      "Date:                Fri, 25 Feb 2022   Prob (F-statistic):           4.13e-25\n",
      "Time:                        05:43:14   Log-Likelihood:                -576.09\n",
      "No. Observations:                 104   AIC:                             1156.\n",
      "Df Residuals:                     102   BIC:                             1161.\n",
      "Df Model:                           1                                         \n",
      "Covariance Type:            nonrobust                                         \n",
      "==============================================================================\n",
      "                 coef    std err          t      P>|t|      [0.025      0.975]\n",
      "------------------------------------------------------------------------------\n",
      "Intercept     10.6725      6.853      1.557      0.122      -2.920      24.265\n",
      "Input_size     0.0002   1.67e-05     13.820      0.000       0.000       0.000\n",
      "==============================================================================\n",
      "Omnibus:                       45.754   Durbin-Watson:                   2.264\n",
      "Prob(Omnibus):                  0.000   Jarque-Bera (JB):              229.931\n",
      "Skew:                           1.309   Prob(JB):                     1.18e-50\n",
      "Kurtosis:                       9.798   Cond. No.                     4.61e+05\n",
      "==============================================================================\n",
      "\n",
      "Notes:\n",
      "[1] Standard Errors assume that the covariance matrix of the errors is correctly specified.\n",
      "[2] The condition number is large, 4.61e+05. This might indicate that there are\n",
      "strong multicollinearity or other numerical problems.\n",
      "0.6518749996909913 0.6484620094918834\n"
     ]
    },
    {
     "data": {
      "text/plain": [
       "<matplotlib.collections.PathCollection at 0x7f58c89cae10>"
      ]
     },
     "execution_count": 93,
     "metadata": {},
     "output_type": "execute_result"
    },
    {
     "data": {
      "image/png": "[encoded data removed]",
      "text/plain": [
       "<Figure size 432x288 with 1 Axes>"
      ]
     },
     "metadata": {
      "needs_background": "light"
     },
     "output_type": "display_data"
    }
   ],
   "source": [
    "#the relationship between Input_size and exection_time\n",
    "result = sm.ols(formula=\"execution_time ~ Input_size \", data=df).fit()\n",
    "print (result.summary())\n",
    "print (result.rsquared, result.rsquared_adj)\n",
    "plt.scatter(x2, y)"
   ]
  },
  {
   "cell_type": "code",
   "execution_count": 82,
   "id": "9d14225b",
   "metadata": {},
   "outputs": [],
   "source": [
    "## The following code is for extracting data only\n",
    "import pandas\n",
    "import csv\n",
    "df = pandas.read_csv(\"excution_time_zcu102.csv\")\n",
    "name = df[\"Name\"]\n",
    "for i in name:\n",
    "    i1 = i.rfind(\"_\")\n",
    "    i2 = i[:i1].rfind(\"_\")\n",
    "    i3 = i[:i2].rfind(\"_\")\n",
    "    if i[i2+1:i1][0] == \"0\":\n",
    "        i4 =i[:i3].rfind(\"_\")\n",
    "        size1 = int(i[i4+1:i3])\n",
    "        size2 = int(i[i3+1:i2])\n",
    "    else:\n",
    "        size1 = int(i[i3+1:i2])\n",
    "        size2 = int(i[i2+1:i1])\n",
    "    \n",
    "    with open(\"input_size.csv\",\"a+\") as csvfile:\n",
    "        writer = csv.writer(csvfile)\n",
    "        writer.writerows([[size1*size2],])\n",
    "\n",
    "            "
   ]
  },
  {
   "cell_type": "code",
   "execution_count": 78,
   "id": "79c8f050",
   "metadata": {},
   "outputs": [
    {
     "data": {
      "text/plain": [
       "'0'"
      ]
     },
     "execution_count": 78,
     "metadata": {},
     "output_type": "execute_result"
    }
   ],
   "source": [
    "import pandas\n",
    "import csv\n",
    "df = pandas.read_csv(\"excution_time_zcu102.csv\")\n",
    "name = df[\"Name\"]\n",
    "i1 = name[8].rfind(\"_\")\n",
    "i2 = name[8][:i1].rfind(\"_\")\n",
    "i3 = name[8][:i2].rfind(\"_\")\n",
    "#a=int(name[8][i3+1:i2])\n",
    "#b=int(name[8][i2+1:i1])\n",
    "name[8][i2+1:i1][0]"
   ]
  },
  {
   "cell_type": "code",
   "execution_count": 74,
   "id": "4778837e",
   "metadata": {},
   "outputs": [
    {
     "data": {
      "text/plain": [
       "'224'"
      ]
     },
     "execution_count": 74,
     "metadata": {},
     "output_type": "execute_result"
    }
   ],
   "source": [
    "name[1][i2+1:i1]"
   ]
  },
  {
   "cell_type": "code",
   "execution_count": 16,
   "id": "c19e5085",
   "metadata": {},
   "outputs": [],
   "source": [
    "## The following code is for extracting data only\n",
    "import pandas\n",
    "import csv\n",
    "df = pandas.read_csv(\"execution_time_zcu102.csv\")\n",
    "name = df[\"Application\"]\n",
    "for i in name:\n",
    "    if (\"Classification\" in i) == True:\n",
    "        identifier = 1\n",
    "    elif (\"Detection\" in i) == True:\n",
    "        identifier = 2\n",
    "    elif (\"Segmentation\" in i) == True:\n",
    "        identifier = 3\n",
    "    else:\n",
    "        identifier = 0\n",
    "    with open(\"input_indentifier.csv\",\"a+\") as csvfile:\n",
    "        writer = csv.writer(csvfile)\n",
    "        writer.writerows([[identifier],])\n"
   ]
  },
  {
   "cell_type": "code",
   "execution_count": 5,
   "id": "fe94f2b0",
   "metadata": {},
   "outputs": [
    {
     "data": {
      "text/plain": [
       "True"
      ]
     },
     "execution_count": 5,
     "metadata": {},
     "output_type": "execute_result"
    }
   ],
   "source": [
    "a = \"a Class\"\n",
    "\"Class\" in a"
   ]
  },
  {
   "cell_type": "code",
   "execution_count": 13,
   "id": "da41c22d",
   "metadata": {},
   "outputs": [
    {
     "data": {
      "text/plain": [
       "True"
      ]
     },
     "execution_count": 13,
     "metadata": {},
     "output_type": "execute_result"
    }
   ],
   "source": [
    "\"Image\" in name[1]"
   ]
  },
  {
   "cell_type": "code",
   "execution_count": 18,
   "id": "5885caf1",
   "metadata": {},
   "outputs": [
    {
     "name": "stderr",
     "output_type": "stream",
     "text": [
      "/opt/vitis_ai/conda/envs/vitis-ai-tensorflow2/lib/python3.7/site-packages/scipy/stats/stats.py:1604: UserWarning: kurtosistest only valid for n>=20 ... continuing anyway, n=13\n",
      "  \"anyway, n=%i\" % int(n))\n"
     ]
    },
    {
     "name": "stdout",
     "output_type": "stream",
     "text": [
      "                            OLS Regression Results                            \n",
      "==============================================================================\n",
      "Dep. Variable:         execution_time   R-squared:                       0.857\n",
      "Model:                            OLS   Adj. R-squared:                  0.829\n",
      "Method:                 Least Squares   F-statistic:                     30.06\n",
      "Date:                Wed, 02 Mar 2022   Prob (F-statistic):           5.90e-05\n",
      "Time:                        06:40:30   Log-Likelihood:                -71.604\n",
      "No. Observations:                  13   AIC:                             149.2\n",
      "Df Residuals:                      10   BIC:                             150.9\n",
      "Df Model:                           2                                         \n",
      "Covariance Type:            nonrobust                                         \n",
      "==============================================================================\n",
      "                 coef    std err          t      P>|t|      [0.025      0.975]\n",
      "------------------------------------------------------------------------------\n",
      "Intercept      6.4162     25.357      0.253      0.805     -50.082      62.915\n",
      "Gops           2.3272      1.133      2.053      0.067      -0.198       4.853\n",
      "Input_size     0.0001   7.12e-05      1.972      0.077   -1.82e-05       0.000\n",
      "==============================================================================\n",
      "Omnibus:                        8.393   Durbin-Watson:                   2.428\n",
      "Prob(Omnibus):                  0.015   Jarque-Bera (JB):                4.630\n",
      "Skew:                           1.390   Prob(JB):                       0.0988\n",
      "Kurtosis:                       3.904   Cond. No.                     8.65e+05\n",
      "==============================================================================\n",
      "\n",
      "Notes:\n",
      "[1] Standard Errors assume that the covariance matrix of the errors is correctly specified.\n",
      "[2] The condition number is large, 8.65e+05. This might indicate that there are\n",
      "strong multicollinearity or other numerical problems.\n",
      "R-squared: 0.8573806990200407\n"
     ]
    },
    {
     "data": {
      "image/png": "[encoded data removed]",
      "text/plain": [
       "<Figure size 432x288 with 1 Axes>"
      ]
     },
     "metadata": {
      "needs_background": "light"
     },
     "output_type": "display_data"
    }
   ],
   "source": [
    "#the relationship between Gops,Input_size and exection_time\n",
    "import pandas\n",
    "import statsmodels.formula.api as sm\n",
    "import matplotlib.pyplot as plt\n",
    "df = pandas.read_csv(\"Identifier=3.csv\")\n",
    "x1 = df[\"Gops\"]\n",
    "x2 = df[\"Input_size\"]\n",
    "y = df[\"execution_time\"]\n",
    "\n",
    "result = sm.ols(formula=\"execution_time ~ Gops + Input_size  \", data=df).fit()\n",
    "print (result.summary())\n",
    "#print (result.rsquared, result.rsquared_adj)\n",
    "plt.scatter(x1, y)\n",
    "plt.xlabel(\"Gops_per_image\")\n",
    "plt.ylabel(\"Execution_time_zcu102\")\n",
    "plt.title(\"The relationship between Total_params,Input_size and Execution_time_zcu102------category=detection\")\n",
    "print (\"R-squared:\",result.rsquared)"
   ]
  },
  {
   "cell_type": "code",
   "execution_count": null,
   "id": "df548476",
   "metadata": {},
   "outputs": [],
   "source": []
  }
 ],
 "metadata": {
  "kernelspec": {
   "display_name": "Python 3 (ipykernel)",
   "language": "python",
   "name": "python3"
  },
  "language_info": {
   "codemirror_mode": {
    "name": "ipython",
    "version": 3
   },
   "file_extension": ".py",
   "mimetype": "text/x-python",
   "name": "python",
   "nbconvert_exporter": "python",
   "pygments_lexer": "ipython3",
   "version": "3.7.12"
  }
 },
 "nbformat": 4,
 "nbformat_minor": 5
}
