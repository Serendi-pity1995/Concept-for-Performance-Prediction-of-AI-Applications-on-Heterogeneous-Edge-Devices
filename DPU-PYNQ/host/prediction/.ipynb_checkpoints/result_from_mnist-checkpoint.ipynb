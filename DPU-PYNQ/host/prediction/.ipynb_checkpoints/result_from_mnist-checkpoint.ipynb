{
 "cells": [
  {
   "cell_type": "code",
   "execution_count": 7,
   "id": "738ea193",
   "metadata": {},
   "outputs": [
    {
     "data": {
      "text/plain": [
       "LinearRegression()"
      ]
     },
     "execution_count": 7,
     "metadata": {},
     "output_type": "execute_result"
    }
   ],
   "source": [
    "import pandas\n",
    "from sklearn import linear_model\n",
    "df = pandas.read_csv(\"para_count.csv\")\n",
    "X = df[['Conv2D_kernel', 'Conv2D_size', \"MaxPooling_size\",\"Dense_size\", \"Total_params\"]]\n",
    "y = df['Execution time']\n",
    "regr = linear_model.LinearRegression()\n",
    "regr.fit(X, y)\n"
   ]
  },
  {
   "cell_type": "code",
   "execution_count": 10,
   "id": "d617ce0f",
   "metadata": {},
   "outputs": [
    {
     "name": "stdout",
     "output_type": "stream",
     "text": [
      "[4.58537634]\n"
     ]
    }
   ],
   "source": [
    "predictedCO2 = regr.predict([[16, 9, 2, 48, 500000]])\n",
    "print(predictedCO2)"
   ]
  },
  {
   "cell_type": "code",
   "execution_count": 11,
   "id": "b8e90fa4",
   "metadata": {},
   "outputs": [
    {
     "name": "stdout",
     "output_type": "stream",
     "text": [
      "[ 1.86511317e-03  9.11201923e-03  1.06845645e-01 -1.73277386e-03\n",
      "  4.35539990e-06]\n"
     ]
    }
   ],
   "source": [
    "print(regr.coef_)"
   ]
  },
  {
   "cell_type": "code",
   "execution_count": 2,
   "id": "734afab5",
   "metadata": {},
   "outputs": [
    {
     "data": {
      "text/plain": [
       "LinearRegression()"
      ]
     },
     "execution_count": 2,
     "metadata": {},
     "output_type": "execute_result"
    }
   ],
   "source": [
    "import pandas\n",
    "from sklearn import linear_model\n",
    "import matplotlib.pyplot as plt\n",
    "df = pandas.read_csv(\"para_count_mnist.csv\")\n",
    "x= df[[\"Total_params\"]]/100000\n",
    "y = df['Execution time']\n",
    "regr = linear_model.LinearRegression()\n",
    "regr.fit(x, y)\n"
   ]
  },
  {
   "cell_type": "code",
   "execution_count": 3,
   "id": "632350ad",
   "metadata": {},
   "outputs": [
    {
     "data": {
      "text/html": [
       "<div>\n",
       "<style scoped>\n",
       "    .dataframe tbody tr th:only-of-type {\n",
       "        vertical-align: middle;\n",
       "    }\n",
       "\n",
       "    .dataframe tbody tr th {\n",
       "        vertical-align: top;\n",
       "    }\n",
       "\n",
       "    .dataframe thead th {\n",
       "        text-align: right;\n",
       "    }\n",
       "</style>\n",
       "<table border=\"1\" class=\"dataframe\">\n",
       "  <thead>\n",
       "    <tr style=\"text-align: right;\">\n",
       "      <th></th>\n",
       "      <th>Total_params</th>\n",
       "    </tr>\n",
       "  </thead>\n",
       "  <tbody>\n",
       "    <tr>\n",
       "      <th>0</th>\n",
       "      <td>1.73498</td>\n",
       "    </tr>\n",
       "    <tr>\n",
       "      <th>1</th>\n",
       "      <td>2.60202</td>\n",
       "    </tr>\n",
       "    <tr>\n",
       "      <th>2</th>\n",
       "      <td>3.46906</td>\n",
       "    </tr>\n",
       "    <tr>\n",
       "      <th>3</th>\n",
       "      <td>4.33610</td>\n",
       "    </tr>\n",
       "    <tr>\n",
       "      <th>4</th>\n",
       "      <td>5.20314</td>\n",
       "    </tr>\n",
       "    <tr>\n",
       "      <th>...</th>\n",
       "      <td>...</td>\n",
       "    </tr>\n",
       "    <tr>\n",
       "      <th>211</th>\n",
       "      <td>0.58458</td>\n",
       "    </tr>\n",
       "    <tr>\n",
       "      <th>212</th>\n",
       "      <td>0.77066</td>\n",
       "    </tr>\n",
       "    <tr>\n",
       "      <th>213</th>\n",
       "      <td>0.95674</td>\n",
       "    </tr>\n",
       "    <tr>\n",
       "      <th>214</th>\n",
       "      <td>1.14282</td>\n",
       "    </tr>\n",
       "    <tr>\n",
       "      <th>215</th>\n",
       "      <td>1.32890</td>\n",
       "    </tr>\n",
       "  </tbody>\n",
       "</table>\n",
       "<p>216 rows × 1 columns</p>\n",
       "</div>"
      ],
      "text/plain": [
       "     Total_params\n",
       "0         1.73498\n",
       "1         2.60202\n",
       "2         3.46906\n",
       "3         4.33610\n",
       "4         5.20314\n",
       "..            ...\n",
       "211       0.58458\n",
       "212       0.77066\n",
       "213       0.95674\n",
       "214       1.14282\n",
       "215       1.32890\n",
       "\n",
       "[216 rows x 1 columns]"
      ]
     },
     "execution_count": 3,
     "metadata": {},
     "output_type": "execute_result"
    }
   ],
   "source": [
    "x"
   ]
  },
  {
   "cell_type": "code",
   "execution_count": 4,
   "id": "ad796779",
   "metadata": {},
   "outputs": [
    {
     "name": "stdout",
     "output_type": "stream",
     "text": [
      "[6.5951345]\n"
     ]
    }
   ],
   "source": [
    "predictedCO2 = regr.predict([[10]])\n",
    "print(predictedCO2)"
   ]
  },
  {
   "cell_type": "code",
   "execution_count": 11,
   "id": "dd9a56dc",
   "metadata": {},
   "outputs": [
    {
     "data": {
      "image/png": "[encoded data removed]",
      "text/plain": [
       "<Figure size 432x288 with 1 Axes>"
      ]
     },
     "metadata": {
      "needs_background": "light"
     },
     "output_type": "display_data"
    }
   ],
   "source": [
    "plt.scatter(x, y)\n",
    "plt.xlabel(\"Total_params(M)\")\n",
    "plt.ylabel(\"Execution_time(ms)\")\n",
    "plt.title(\"The relationship between Total_params and Execution_time\")\n",
    "plt.show()"
   ]
  },
  {
   "cell_type": "code",
   "execution_count": 7,
   "id": "6e6c417a",
   "metadata": {},
   "outputs": [
    {
     "data": {
      "text/plain": [
       "<matplotlib.collections.PathCollection at 0x7ff12f5b0dd0>"
      ]
     },
     "execution_count": 7,
     "metadata": {},
     "output_type": "execute_result"
    },
    {
     "data": {
      "image/png": "[encoded data removed]",
      "text/plain": [
       "<Figure size 432x288 with 1 Axes>"
      ]
     },
     "metadata": {
      "needs_background": "light"
     },
     "output_type": "display_data"
    }
   ],
   "source": [
    "import pandas\n",
    "from sklearn import linear_model\n",
    "import matplotlib.pyplot as plt\n",
    "plt.scatter(x, y)"
   ]
  },
  {
   "cell_type": "code",
   "execution_count": 22,
   "id": "c46c592c",
   "metadata": {},
   "outputs": [
    {
     "data": {
      "text/plain": [
       "0.9917660236973896"
      ]
     },
     "execution_count": 22,
     "metadata": {},
     "output_type": "execute_result"
    }
   ],
   "source": [
    "from sklearn.linear_model import LinearRegression\n",
    "model = LinearRegression()\n",
    "df = pandas.read_csv(\"execution_time_lists.csv\")\n",
    "X, y = df[['Gops per image','Input']], df.excution_time_ultra96\n",
    "model.fit(X, y)\n",
    "model.score(X, y)"
   ]
  },
  {
   "cell_type": "code",
   "execution_count": 6,
   "id": "144cbdd2",
   "metadata": {},
   "outputs": [
    {
     "data": {
      "image/png": "[encoded data removed]",
      "text/plain": [
       "<Figure size 432x288 with 1 Axes>"
      ]
     },
     "metadata": {
      "needs_background": "light"
     },
     "output_type": "display_data"
    },
    {
     "name": "stdout",
     "output_type": "stream",
     "text": [
      "R-squared: 0.9917203751882102\n"
     ]
    }
   ],
   "source": [
    "import statsmodels.formula.api as sm\n",
    "import matplotlib.pyplot as plt\n",
    "import pandas\n",
    "df = pandas.read_csv(\"execution_time_lists.csv\")\n",
    "x = df[\"Gops_per_image\"]\n",
    "y = df[\"execution_time_ultra96\"]\n",
    "result = sm.ols(formula=\"execution_time_ultra96 ~ Gops_per_image \", data=df).fit()\n",
    "#print result.summary()\n",
    "\n",
    "plt.scatter(x, y)\n",
    "plt.xlabel(\"Gops_per_image\")\n",
    "plt.ylabel(\"Execution_time_ultra96\")\n",
    "plt.title(\"The relationship between Gops_per_image and Execution_time_ultra96\")\n",
    "plt.show()\n",
    "#print (\"R-squared:\",result.rsquared, \"       Adj. R-squared:\",result.rsquared_adj)\n",
    "print (\"R-squared:\",result.rsquared)"
   ]
  },
  {
   "cell_type": "code",
   "execution_count": 37,
   "id": "ca7269b4",
   "metadata": {},
   "outputs": [
    {
     "name": "stdout",
     "output_type": "stream",
     "text": [
      "0.026011550555363416 -0.001816690857340486\n"
     ]
    },
    {
     "data": {
      "text/plain": [
       "<matplotlib.collections.PathCollection at 0x7f3628940090>"
      ]
     },
     "execution_count": 37,
     "metadata": {},
     "output_type": "execute_result"
    },
    {
     "data": {
      "image/png": "[encoded data removed]",
      "text/plain": [
       "<Figure size 432x288 with 1 Axes>"
      ]
     },
     "metadata": {
      "needs_background": "light"
     },
     "output_type": "display_data"
    }
   ],
   "source": [
    "import statsmodels.formula.api as sm\n",
    "df = pandas.read_csv(\"excution_time_lists.csv\")\n",
    "x = df[\"Input\"]\n",
    "y = df[\"execution_time_ultra96\"]\n",
    "result = sm.ols(formula=\"execution_time_ultra96 ~ Input\", data=df).fit()\n",
    "#print result.summary()\n",
    "print (result.rsquared, result.rsquared_adj)\n",
    "plt.scatter(x, y)"
   ]
  },
  {
   "cell_type": "code",
   "execution_count": 32,
   "id": "0fad0e8e",
   "metadata": {},
   "outputs": [
    {
     "name": "stdout",
     "output_type": "stream",
     "text": [
      "0.9917203751882102 0.9914838144793019\n"
     ]
    }
   ],
   "source": [
    "import statsmodels.formula.api as sm\n",
    "df = pandas.read_csv(\"execution_time_lists.csv\")\n",
    "result = sm.ols(formula=\"execution_time_ultra96 ~ Gops_per_image + Input\", data=df).fit()\n",
    "#print result.summary()\n",
    "print (result.rsquared, result.rsquared_adj)"
   ]
  },
  {
   "cell_type": "code",
   "execution_count": 38,
   "id": "e7b65ec7",
   "metadata": {},
   "outputs": [
    {
     "name": "stdout",
     "output_type": "stream",
     "text": [
      "0.9753486035917539 0.9746442779800897\n"
     ]
    },
    {
     "data": {
      "text/plain": [
       "<matplotlib.collections.PathCollection at 0x7f3629c5be50>"
      ]
     },
     "execution_count": 38,
     "metadata": {},
     "output_type": "execute_result"
    },
    {
     "data": {
      "image/png": "[encoded data removed]",
      "text/plain": [
       "<Figure size 432x288 with 1 Axes>"
      ]
     },
     "metadata": {
      "needs_background": "light"
     },
     "output_type": "display_data"
    }
   ],
   "source": [
    "import statsmodels.formula.api as sm\n",
    "import matplotlib.pyplot as plt\n",
    "df = pandas.read_csv(\"execution_time_lists.csv\")\n",
    "x = df[\"Gops_per_image\"]\n",
    "y = df[\"excution_time_zcu102\"]\n",
    "result = sm.ols(formula=\"execution_time_zcu102 ~ Gops_per_image \", data=df).fit()\n",
    "#print result.summary()\n",
    "print (result.rsquared, result.rsquared_adj)\n",
    "plt.scatter(x, y)"
   ]
  },
  {
   "cell_type": "code",
   "execution_count": 40,
   "id": "80b7431f",
   "metadata": {},
   "outputs": [
    {
     "name": "stdout",
     "output_type": "stream",
     "text": [
      "0.052710620100801964 0.025645209246539236\n"
     ]
    },
    {
     "data": {
      "text/plain": [
       "<matplotlib.collections.PathCollection at 0x7f362882c990>"
      ]
     },
     "execution_count": 40,
     "metadata": {},
     "output_type": "execute_result"
    },
    {
     "data": {
      "image/png": "[encoded data removed]",
      "text/plain": [
       "<Figure size 432x288 with 1 Axes>"
      ]
     },
     "metadata": {
      "needs_background": "light"
     },
     "output_type": "display_data"
    }
   ],
   "source": [
    "import statsmodels.formula.api as sm\n",
    "import matplotlib.pyplot as plt\n",
    "df = pandas.read_csv(\"execution_time_lists.csv\")\n",
    "x = df[\"Gops_per_image\"]\n",
    "y = df[\"ultra96_zcu102_ratio\"]\n",
    "result = sm.ols(formula=\"ultra96_zcu102_ratio ~ Gops_per_image \", data=df).fit()\n",
    "#print result.summary()\n",
    "print (result.rsquared, result.rsquared_adj)\n",
    "plt.scatter(x, y)"
   ]
  },
  {
   "cell_type": "code",
   "execution_count": null,
   "id": "300d571a",
   "metadata": {},
   "outputs": [],
   "source": []
  }
 ],
 "metadata": {
  "kernelspec": {
   "display_name": "Python 3 (ipykernel)",
   "language": "python",
   "name": "python3"
  },
  "language_info": {
   "codemirror_mode": {
    "name": "ipython",
    "version": 3
   },
   "file_extension": ".py",
   "mimetype": "text/x-python",
   "name": "python",
   "nbconvert_exporter": "python",
   "pygments_lexer": "ipython3",
   "version": "3.7.12"
  }
 },
 "nbformat": 4,
 "nbformat_minor": 5
}
