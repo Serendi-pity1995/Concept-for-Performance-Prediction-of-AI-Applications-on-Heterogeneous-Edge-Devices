{
 "cells": [
  {
   "cell_type": "code",
   "execution_count": 16,
   "id": "1f4fe77d",
   "metadata": {},
   "outputs": [
    {
     "name": "stdout",
     "output_type": "stream",
     "text": [
      "                            OLS Regression Results                            \n",
      "==============================================================================\n",
      "Dep. Variable:         Execution_time   R-squared:                       0.995\n",
      "Model:                            OLS   Adj. R-squared:                  0.994\n",
      "Method:                 Least Squares   F-statistic:                     5944.\n",
      "Date:                Sat, 14 May 2022   Prob (F-statistic):          2.83e-144\n",
      "Time:                        17:55:38   Log-Likelihood:                -196.02\n",
      "No. Observations:                 133   AIC:                             402.0\n",
      "Df Residuals:                     128   BIC:                             416.5\n",
      "Df Model:                           4                                         \n",
      "Covariance Type:            nonrobust                                         \n",
      "==========================================================================================\n",
      "                             coef    std err          t      P>|t|      [0.025      0.975]\n",
      "------------------------------------------------------------------------------------------\n",
      "Intercept                 -0.2209      0.195     -1.134      0.259      -0.606       0.164\n",
      "FLOPs_G                    2.1949      0.068     32.517      0.000       2.061       2.328\n",
      "Total_params_M             0.3692      0.010     35.529      0.000       0.349       0.390\n",
      "Memory_M                  -5.1988      2.373     -2.191      0.030      -9.894      -0.503\n",
      "total_num_of_neurons_M    21.1862      9.365      2.262      0.025       2.656      39.716\n",
      "==============================================================================\n",
      "Omnibus:                        3.280   Durbin-Watson:                   0.559\n",
      "Prob(Omnibus):                  0.194   Jarque-Bera (JB):                2.736\n",
      "Skew:                           0.315   Prob(JB):                        0.255\n",
      "Kurtosis:                       3.313   Cond. No.                     3.13e+03\n",
      "==============================================================================\n",
      "\n",
      "Notes:\n",
      "[1] Standard Errors assume that the covariance matrix of the errors is correctly specified.\n",
      "[2] The condition number is large, 3.13e+03. This might indicate that there are\n",
      "strong multicollinearity or other numerical problems.\n",
      "0.9946448325663592 0.9944774835840579\n",
      "Intercept                 -0.220914\n",
      "FLOPs_G                    2.194907\n",
      "Total_params_M             0.369220\n",
      "Memory_M                  -5.198779\n",
      "total_num_of_neurons_M    21.186183\n",
      "dtype: float64\n"
     ]
    },
    {
     "data": {
      "image/png": "[encoded data removed]",
      "text/plain": [
       "<Figure size 432x288 with 1 Axes>"
      ]
     },
     "metadata": {
      "needs_background": "light"
     },
     "output_type": "display_data"
    }
   ],
   "source": [
    "import pandas\n",
    "import statsmodels.formula.api as sm\n",
    "import matplotlib.pyplot as plt\n",
    "df = pandas.read_csv(\"test_model_result.csv\")\n",
    "x1 = df[\"FLOPs_G\"]\n",
    "x2 = df[\"Total_params_M\"]\n",
    "# x3 = df[\"image_shape_x\"]\n",
    "x4 = df[\"Memory_M\"]\n",
    "x5 = df[\"total_num_of_neurons_M\"]\n",
    "y = df[\"Execution_time\"]\n",
    "result = sm.ols(formula=\"Execution_time ~ FLOPs_G + Total_params_M + Memory_M + total_num_of_neurons_M \", data=df).fit()\n",
    "print (result.summary())\n",
    "print (result.rsquared, result.rsquared_adj)\n",
    "plt.xlabel(\"FLOPs(G)\")\n",
    "plt.ylabel(\"Execution_time(ms)\")\n",
    "plt.title(\"The relationship between FLOPs and Execution_time \")\n",
    "plt.scatter(x1, y)\n",
    "print(result.params)\n"
   ]
  },
  {
   "cell_type": "code",
   "execution_count": 40,
   "id": "337b371a",
   "metadata": {},
   "outputs": [
    {
     "ename": "TypeError",
     "evalue": "'(slice('FLOPs_G', [1, 2, 3], None), slice('Memory_M', [1, 2, 3], None))' is an invalid key",
     "output_type": "error",
     "traceback": [
      "\u001b[0;31m---------------------------------------------------------------------------\u001b[0m",
      "\u001b[0;31mTypeError\u001b[0m                                 Traceback (most recent call last)",
      "\u001b[0;32m/tmp/ipykernel_6905/3818754455.py\u001b[0m in \u001b[0;36m<module>\u001b[0;34m\u001b[0m\n\u001b[1;32m      2\u001b[0m \u001b[0mpred_x1\u001b[0m \u001b[0;34m=\u001b[0m \u001b[0mpred_df\u001b[0m\u001b[0;34m[\u001b[0m\u001b[0;34m\"FLOPs_G\"\u001b[0m\u001b[0;34m]\u001b[0m\u001b[0;34m\u001b[0m\u001b[0;34m\u001b[0m\u001b[0m\n\u001b[1;32m      3\u001b[0m \u001b[0mpred_x2\u001b[0m \u001b[0;34m=\u001b[0m \u001b[0mpred_df\u001b[0m\u001b[0;34m[\u001b[0m\u001b[0;34m\"Memory_M\"\u001b[0m\u001b[0;34m]\u001b[0m\u001b[0;34m\u001b[0m\u001b[0;34m\u001b[0m\u001b[0m\n\u001b[0;32m----> 4\u001b[0;31m \u001b[0mresult\u001b[0m\u001b[0;34m.\u001b[0m\u001b[0mpredict\u001b[0m\u001b[0;34m(\u001b[0m\u001b[0mpred_df\u001b[0m\u001b[0;34m[\u001b[0m\u001b[0;34m'FLOPs_G'\u001b[0m\u001b[0;34m:\u001b[0m \u001b[0;34m[\u001b[0m\u001b[0;36m1\u001b[0m\u001b[0;34m,\u001b[0m\u001b[0;36m2\u001b[0m\u001b[0;34m,\u001b[0m\u001b[0;36m3\u001b[0m\u001b[0;34m]\u001b[0m\u001b[0;34m,\u001b[0m\u001b[0;34m\"Memory_M\"\u001b[0m\u001b[0;34m:\u001b[0m\u001b[0;34m[\u001b[0m\u001b[0;36m1\u001b[0m\u001b[0;34m,\u001b[0m\u001b[0;36m2\u001b[0m\u001b[0;34m,\u001b[0m\u001b[0;36m3\u001b[0m\u001b[0;34m]\u001b[0m \u001b[0;34m]\u001b[0m\u001b[0;34m)\u001b[0m\u001b[0;34m\u001b[0m\u001b[0;34m\u001b[0m\u001b[0m\n\u001b[0m\u001b[1;32m      5\u001b[0m \u001b[0;31m#result.predict(pred_x1)\u001b[0m\u001b[0;34m\u001b[0m\u001b[0;34m\u001b[0m\u001b[0;34m\u001b[0m\u001b[0m\n",
      "\u001b[0;32m/opt/vitis_ai/conda/envs/vitis-ai-tensorflow2/lib/python3.7/site-packages/pandas/core/frame.py\u001b[0m in \u001b[0;36m__getitem__\u001b[0;34m(self, key)\u001b[0m\n\u001b[1;32m   3022\u001b[0m             \u001b[0;32mif\u001b[0m \u001b[0mself\u001b[0m\u001b[0;34m.\u001b[0m\u001b[0mcolumns\u001b[0m\u001b[0;34m.\u001b[0m\u001b[0mnlevels\u001b[0m \u001b[0;34m>\u001b[0m \u001b[0;36m1\u001b[0m\u001b[0;34m:\u001b[0m\u001b[0;34m\u001b[0m\u001b[0;34m\u001b[0m\u001b[0m\n\u001b[1;32m   3023\u001b[0m                 \u001b[0;32mreturn\u001b[0m \u001b[0mself\u001b[0m\u001b[0;34m.\u001b[0m\u001b[0m_getitem_multilevel\u001b[0m\u001b[0;34m(\u001b[0m\u001b[0mkey\u001b[0m\u001b[0;34m)\u001b[0m\u001b[0;34m\u001b[0m\u001b[0;34m\u001b[0m\u001b[0m\n\u001b[0;32m-> 3024\u001b[0;31m             \u001b[0mindexer\u001b[0m \u001b[0;34m=\u001b[0m \u001b[0mself\u001b[0m\u001b[0;34m.\u001b[0m\u001b[0mcolumns\u001b[0m\u001b[0;34m.\u001b[0m\u001b[0mget_loc\u001b[0m\u001b[0;34m(\u001b[0m\u001b[0mkey\u001b[0m\u001b[0;34m)\u001b[0m\u001b[0;34m\u001b[0m\u001b[0;34m\u001b[0m\u001b[0m\n\u001b[0m\u001b[1;32m   3025\u001b[0m             \u001b[0;32mif\u001b[0m \u001b[0mis_integer\u001b[0m\u001b[0;34m(\u001b[0m\u001b[0mindexer\u001b[0m\u001b[0;34m)\u001b[0m\u001b[0;34m:\u001b[0m\u001b[0;34m\u001b[0m\u001b[0;34m\u001b[0m\u001b[0m\n\u001b[1;32m   3026\u001b[0m                 \u001b[0mindexer\u001b[0m \u001b[0;34m=\u001b[0m \u001b[0;34m[\u001b[0m\u001b[0mindexer\u001b[0m\u001b[0;34m]\u001b[0m\u001b[0;34m\u001b[0m\u001b[0;34m\u001b[0m\u001b[0m\n",
      "\u001b[0;32m/opt/vitis_ai/conda/envs/vitis-ai-tensorflow2/lib/python3.7/site-packages/pandas/core/indexes/base.py\u001b[0m in \u001b[0;36mget_loc\u001b[0;34m(self, key, method, tolerance)\u001b[0m\n\u001b[1;32m   3078\u001b[0m             \u001b[0mcasted_key\u001b[0m \u001b[0;34m=\u001b[0m \u001b[0mself\u001b[0m\u001b[0;34m.\u001b[0m\u001b[0m_maybe_cast_indexer\u001b[0m\u001b[0;34m(\u001b[0m\u001b[0mkey\u001b[0m\u001b[0;34m)\u001b[0m\u001b[0;34m\u001b[0m\u001b[0;34m\u001b[0m\u001b[0m\n\u001b[1;32m   3079\u001b[0m             \u001b[0;32mtry\u001b[0m\u001b[0;34m:\u001b[0m\u001b[0;34m\u001b[0m\u001b[0;34m\u001b[0m\u001b[0m\n\u001b[0;32m-> 3080\u001b[0;31m                 \u001b[0;32mreturn\u001b[0m \u001b[0mself\u001b[0m\u001b[0;34m.\u001b[0m\u001b[0m_engine\u001b[0m\u001b[0;34m.\u001b[0m\u001b[0mget_loc\u001b[0m\u001b[0;34m(\u001b[0m\u001b[0mcasted_key\u001b[0m\u001b[0;34m)\u001b[0m\u001b[0;34m\u001b[0m\u001b[0;34m\u001b[0m\u001b[0m\n\u001b[0m\u001b[1;32m   3081\u001b[0m             \u001b[0;32mexcept\u001b[0m \u001b[0mKeyError\u001b[0m \u001b[0;32mas\u001b[0m \u001b[0merr\u001b[0m\u001b[0;34m:\u001b[0m\u001b[0;34m\u001b[0m\u001b[0;34m\u001b[0m\u001b[0m\n\u001b[1;32m   3082\u001b[0m                 \u001b[0;32mraise\u001b[0m \u001b[0mKeyError\u001b[0m\u001b[0;34m(\u001b[0m\u001b[0mkey\u001b[0m\u001b[0;34m)\u001b[0m \u001b[0;32mfrom\u001b[0m \u001b[0merr\u001b[0m\u001b[0;34m\u001b[0m\u001b[0;34m\u001b[0m\u001b[0m\n",
      "\u001b[0;32mpandas/_libs/index.pyx\u001b[0m in \u001b[0;36mpandas._libs.index.IndexEngine.get_loc\u001b[0;34m()\u001b[0m\n",
      "\u001b[0;32mpandas/_libs/index.pyx\u001b[0m in \u001b[0;36mpandas._libs.index.IndexEngine.get_loc\u001b[0;34m()\u001b[0m\n",
      "\u001b[0;31mTypeError\u001b[0m: '(slice('FLOPs_G', [1, 2, 3], None), slice('Memory_M', [1, 2, 3], None))' is an invalid key"
     ]
    }
   ],
   "source": [
    "pred_df = pandas.read_csv(\"para_count_AlexNet.csv\")\n",
    "pred_x1 = pred_df[\"FLOPs_G\"]\n",
    "pred_x2 = pred_df[\"Memory_M\"]\n",
    "result.predict(pred_df['FLOPs_G': [1,2,3],\"Memory_M\":[1,2,3] ])\n",
    "#result.predict(pred_x1)"
   ]
  },
  {
   "cell_type": "code",
   "execution_count": 12,
   "id": "c54deefd",
   "metadata": {},
   "outputs": [
    {
     "name": "stdout",
     "output_type": "stream",
     "text": [
      "                            OLS Regression Results                            \n",
      "==============================================================================\n",
      "Dep. Variable:         Execution_time   R-squared:                       0.529\n",
      "Model:                            OLS   Adj. R-squared:                  0.526\n",
      "Method:                 Least Squares   F-statistic:                     147.3\n",
      "Date:                Sat, 14 May 2022   Prob (F-statistic):           3.51e-23\n",
      "Time:                        17:54:27   Log-Likelihood:                -493.69\n",
      "No. Observations:                 133   AIC:                             991.4\n",
      "Df Residuals:                     131   BIC:                             997.2\n",
      "Df Model:                           1                                         \n",
      "Covariance Type:            nonrobust                                         \n",
      "==================================================================================\n",
      "                     coef    std err          t      P>|t|      [0.025      0.975]\n",
      "----------------------------------------------------------------------------------\n",
      "Intercept          3.9751      1.507      2.638      0.009       0.994       6.956\n",
      "Total_params_M     0.9493      0.078     12.136      0.000       0.795       1.104\n",
      "==============================================================================\n",
      "Omnibus:                       46.632   Durbin-Watson:                   0.516\n",
      "Prob(Omnibus):                  0.000   Jarque-Bera (JB):               93.546\n",
      "Skew:                           1.544   Prob(JB):                     4.86e-21\n",
      "Kurtosis:                       5.709   Cond. No.                         33.6\n",
      "==============================================================================\n",
      "\n",
      "Notes:\n",
      "[1] Standard Errors assume that the covariance matrix of the errors is correctly specified.\n",
      "0.5292566356812172 0.5256631748848906\n"
     ]
    },
    {
     "data": {
      "text/plain": [
       "<matplotlib.collections.PathCollection at 0x7f44d2ee2190>"
      ]
     },
     "execution_count": 12,
     "metadata": {},
     "output_type": "execute_result"
    },
    {
     "data": {
      "image/png": "[encoded data removed]",
      "text/plain": [
       "<Figure size 432x288 with 1 Axes>"
      ]
     },
     "metadata": {
      "needs_background": "light"
     },
     "output_type": "display_data"
    }
   ],
   "source": [
    "import pandas\n",
    "import statsmodels.formula.api as sm\n",
    "import matplotlib.pyplot as plt\n",
    "df = pandas.read_csv(\"test_model_result.csv\")\n",
    "x1 = df[\"FLOPs_G\"]\n",
    "x2 = df[\"Total_params_M\"]\n",
    "x3 = df[\"total_num_of_neurons_M\"]\n",
    "x4 = df[\"Memory_M\"]\n",
    "y = df[\"Execution_time\"]\n",
    "\n",
    "result = sm.ols(formula=\"Execution_time ~   Total_params_M \", data=df).fit()\n",
    "print (result.summary())\n",
    "print (result.rsquared, result.rsquared_adj)\n",
    "plt.xlabel(\"Total_params(M)\")\n",
    "plt.ylabel(\"Execution_time(ms)\")\n",
    "plt.title(\"The relationship between Total_params and Execution_time \")\n",
    "plt.scatter(x2, y)"
   ]
  },
  {
   "cell_type": "code",
   "execution_count": 3,
   "id": "90e82095",
   "metadata": {},
   "outputs": [
    {
     "name": "stdout",
     "output_type": "stream",
     "text": [
      "                            OLS Regression Results                            \n",
      "==============================================================================\n",
      "Dep. Variable:         Execution_time   R-squared:                       0.734\n",
      "Model:                            OLS   Adj. R-squared:                  0.734\n",
      "Method:                 Least Squares   F-statistic:                     1020.\n",
      "Date:                Thu, 14 Apr 2022   Prob (F-statistic):          2.91e-108\n",
      "Time:                        02:34:44   Log-Likelihood:                -1710.5\n",
      "No. Observations:                 371   AIC:                             3425.\n",
      "Df Residuals:                     369   BIC:                             3433.\n",
      "Df Model:                           1                                         \n",
      "Covariance Type:            nonrobust                                         \n",
      "=================================================================================\n",
      "                    coef    std err          t      P>|t|      [0.025      0.975]\n",
      "---------------------------------------------------------------------------------\n",
      "Intercept       -14.7995      2.317     -6.388      0.000     -19.355     -10.244\n",
      "image_shape_x     0.3538      0.011     31.940      0.000       0.332       0.376\n",
      "==============================================================================\n",
      "Omnibus:                       43.941   Durbin-Watson:                   1.138\n",
      "Prob(Omnibus):                  0.000   Jarque-Bera (JB):              298.598\n",
      "Skew:                          -0.041   Prob(JB):                     1.45e-65\n",
      "Kurtosis:                       7.394   Cond. No.                         383.\n",
      "==============================================================================\n",
      "\n",
      "Notes:\n",
      "[1] Standard Errors assume that the covariance matrix of the errors is correctly specified.\n",
      "0.7343691364042528 0.73364926956524\n"
     ]
    },
    {
     "data": {
      "text/plain": [
       "<matplotlib.collections.PathCollection at 0x7f8a6115e3d0>"
      ]
     },
     "execution_count": 3,
     "metadata": {},
     "output_type": "execute_result"
    },
    {
     "data": {
      "image/png": "[encoded data removed]",
      "text/plain": [
       "<Figure size 432x288 with 1 Axes>"
      ]
     },
     "metadata": {
      "needs_background": "light"
     },
     "output_type": "display_data"
    }
   ],
   "source": [
    "import pandas\n",
    "import statsmodels.formula.api as sm\n",
    "import matplotlib.pyplot as plt\n",
    "df = pandas.read_csv(\"model_result.csv\")\n",
    "x1 = df[\"FLOPs_G\"]\n",
    "x2 = df[\"Total_params_M\"]\n",
    "x3 = df[\"image_shape_x\"]\n",
    "x4 = df[\"Memory_M\"]\n",
    "y = df[\"Execution_time\"]\n",
    "\n",
    "result = sm.ols(formula=\"Execution_time ~   image_shape_x \", data=df).fit()\n",
    "print (result.summary())\n",
    "print (result.rsquared, result.rsquared_adj)\n",
    "plt.xlabel(\"image_shape_x\")\n",
    "plt.ylabel(\"Execution_time(ms)\")\n",
    "plt.title(\"The relationship between image_shape and Execution_time \")\n",
    "plt.scatter(x3, y)"
   ]
  },
  {
   "cell_type": "code",
   "execution_count": 5,
   "id": "928696ce",
   "metadata": {},
   "outputs": [
    {
     "name": "stdout",
     "output_type": "stream",
     "text": [
      "                            OLS Regression Results                            \n",
      "==============================================================================\n",
      "Dep. Variable:         Execution_time   R-squared:                       0.899\n",
      "Model:                            OLS   Adj. R-squared:                  0.899\n",
      "Method:                 Least Squares   F-statistic:                     3660.\n",
      "Date:                Tue, 03 May 2022   Prob (F-statistic):          3.69e-206\n",
      "Time:                        15:18:52   Log-Likelihood:                -1687.5\n",
      "No. Observations:                 411   AIC:                             3379.\n",
      "Df Residuals:                     409   BIC:                             3387.\n",
      "Df Model:                           1                                         \n",
      "Covariance Type:            nonrobust                                         \n",
      "==============================================================================\n",
      "                 coef    std err          t      P>|t|      [0.025      0.975]\n",
      "------------------------------------------------------------------------------\n",
      "Intercept      6.3536      0.949      6.692      0.000       4.487       8.220\n",
      "Memory_M       1.0913      0.018     60.501      0.000       1.056       1.127\n",
      "==============================================================================\n",
      "Omnibus:                      119.752   Durbin-Watson:                   1.809\n",
      "Prob(Omnibus):                  0.000   Jarque-Bera (JB):              786.823\n",
      "Skew:                          -1.065   Prob(JB):                    1.39e-171\n",
      "Kurtosis:                       9.435   Cond. No.                         68.8\n",
      "==============================================================================\n",
      "\n",
      "Notes:\n",
      "[1] Standard Errors assume that the covariance matrix of the errors is correctly specified.\n",
      "0.8994941749024212 0.8992484393887352\n"
     ]
    },
    {
     "data": {
      "text/plain": [
       "<matplotlib.collections.PathCollection at 0x7f9e34acf8d0>"
      ]
     },
     "execution_count": 5,
     "metadata": {},
     "output_type": "execute_result"
    },
    {
     "data": {
      "image/png": "[encoded data removed]",
      "text/plain": [
       "<Figure size 432x288 with 1 Axes>"
      ]
     },
     "metadata": {
      "needs_background": "light"
     },
     "output_type": "display_data"
    }
   ],
   "source": [
    "import pandas\n",
    "import statsmodels.formula.api as sm\n",
    "import matplotlib.pyplot as plt\n",
    "df = pandas.read_csv(\"model_result.csv\")\n",
    "x1 = df[\"FLOPs_G\"]\n",
    "x2 = df[\"Total_params_M\"]\n",
    "x3 = df[\"image_shape_x\"]\n",
    "x4 = df[\"Memory_M\"]\n",
    "y = df[\"Execution_time\"]\n",
    "\n",
    "result = sm.ols(formula=\"Execution_time ~   Memory_M \", data=df).fit()\n",
    "print (result.summary())\n",
    "print (result.rsquared, result.rsquared_adj)\n",
    "plt.xlabel(\"Memory(M)\")\n",
    "plt.ylabel(\"Execution_time(ms)\")\n",
    "plt.title(\"The relationship between Memory and Execution_time \")\n",
    "plt.scatter(x4, y)\n",
    "#result.predict(x4)"
   ]
  },
  {
   "cell_type": "code",
   "execution_count": 4,
   "id": "27a25991",
   "metadata": {},
   "outputs": [
    {
     "name": "stdout",
     "output_type": "stream",
     "text": [
      "<class 'pandas.core.series.Series'>\n"
     ]
    }
   ],
   "source": [
    "print(type(x4))"
   ]
  },
  {
   "cell_type": "code",
   "execution_count": 4,
   "id": "42bda362",
   "metadata": {},
   "outputs": [
    {
     "name": "stdout",
     "output_type": "stream",
     "text": [
      "0      11.092387\n",
      "1      15.717254\n",
      "2      23.425367\n",
      "3      34.216725\n",
      "4      48.091328\n",
      "5      65.049176\n",
      "6      85.090269\n",
      "7     108.214607\n",
      "8     134.422190\n",
      "9     163.713018\n",
      "10    196.087092\n",
      "11    231.544410\n",
      "12    270.084974\n",
      "13    311.708782\n",
      "14    356.415836\n",
      "15     14.612913\n",
      "16     18.678250\n",
      "17     21.078189\n",
      "18     23.973235\n",
      "19     26.919513\n",
      "20     30.490065\n",
      "21     11.233938\n",
      "22     16.283460\n",
      "23     24.699329\n",
      "24     36.481546\n",
      "25     51.630111\n",
      "26     70.145023\n",
      "27     12.699638\n",
      "28     13.880304\n",
      "29     15.268151\n",
      "30     16.863177\n",
      "31     18.665382\n",
      "32     20.674767\n",
      "33     22.891332\n",
      "34     25.315077\n",
      "35     65.383751\n",
      "36     13.293319\n",
      "37     18.440066\n",
      "38     26.093861\n",
      "39     36.254702\n",
      "40     48.922590\n",
      "41     64.097524\n",
      "42     81.779506\n",
      "43    101.968534\n",
      "44    124.664609\n",
      "45    149.867731\n",
      "46    177.577900\n",
      "47    207.795115\n",
      "48    240.519377\n",
      "49    275.750686\n",
      "50    313.489042\n",
      "51     10.986867\n",
      "52     15.233406\n",
      "53     22.310972\n",
      "54     32.219564\n",
      "dtype: float64\n",
      "ERROR! Session/line number was not unique in database. History logging moved to new session 13\n"
     ]
    }
   ],
   "source": [
    "ypred = result.predict()\n",
    "print(ypred)"
   ]
  },
  {
   "cell_type": "code",
   "execution_count": null,
   "id": "8cf6154f",
   "metadata": {},
   "outputs": [],
   "source": [
    "x1n = np.linspace(20.5, 25, 10)\n",
    "Xnew = np.column_stack((x1n, np.sin(x1n), (x1n - 5) ** 2))\n",
    "Xnew = sm.add_constant(Xnew)\n",
    "ynewpred = olsres.predict(Xnew)  # predict out of sample\n",
    "print(ynewpred)"
   ]
  },
  {
   "cell_type": "code",
   "execution_count": 6,
   "id": "38f7257a",
   "metadata": {},
   "outputs": [
    {
     "name": "stdout",
     "output_type": "stream",
     "text": [
      "Intercept    9.50953\n",
      "Memory_M     1.25667\n",
      "dtype: float64\n"
     ]
    }
   ],
   "source": [
    "print(result.params)"
   ]
  },
  {
   "cell_type": "code",
   "execution_count": null,
   "id": "7ba1cece",
   "metadata": {},
   "outputs": [],
   "source": []
  }
 ],
 "metadata": {
  "kernelspec": {
   "display_name": "Python 3 (ipykernel)",
   "language": "python",
   "name": "python3"
  },
  "language_info": {
   "codemirror_mode": {
    "name": "ipython",
    "version": 3
   },
   "file_extension": ".py",
   "mimetype": "text/x-python",
   "name": "python",
   "nbconvert_exporter": "python",
   "pygments_lexer": "ipython3",
   "version": "3.7.12"
  }
 },
 "nbformat": 4,
 "nbformat_minor": 5
}
