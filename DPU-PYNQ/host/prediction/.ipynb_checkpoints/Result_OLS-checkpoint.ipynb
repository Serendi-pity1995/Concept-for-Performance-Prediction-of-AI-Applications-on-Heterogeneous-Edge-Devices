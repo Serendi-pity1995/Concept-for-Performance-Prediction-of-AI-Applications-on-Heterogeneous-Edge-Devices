{
 "cells": [
  {
   "cell_type": "code",
   "execution_count": 9,
   "id": "1f4fe77d",
   "metadata": {},
   "outputs": [
    {
     "name": "stdout",
     "output_type": "stream",
     "text": [
      "                            OLS Regression Results                            \n",
      "==============================================================================\n",
      "Dep. Variable:         Execution_time   R-squared:                       0.946\n",
      "Model:                            OLS   Adj. R-squared:                  0.946\n",
      "Method:                 Least Squares   F-statistic:                     3273.\n",
      "Date:                Wed, 13 Apr 2022   Prob (F-statistic):          4.01e-238\n",
      "Time:                        06:36:27   Log-Likelihood:                -1509.2\n",
      "No. Observations:                 378   AIC:                             3024.\n",
      "Df Residuals:                     375   BIC:                             3036.\n",
      "Df Model:                           2                                         \n",
      "Covariance Type:            nonrobust                                         \n",
      "==============================================================================\n",
      "                 coef    std err          t      P>|t|      [0.025      0.975]\n",
      "------------------------------------------------------------------------------\n",
      "Intercept      6.0398      0.880      6.861      0.000       4.309       7.771\n",
      "FLOPs_G        1.2967      0.106     12.220      0.000       1.088       1.505\n",
      "x4             0.6993      0.038     18.461      0.000       0.625       0.774\n",
      "==============================================================================\n",
      "Omnibus:                      114.946   Durbin-Watson:                   2.184\n",
      "Prob(Omnibus):                  0.000   Jarque-Bera (JB):              464.283\n",
      "Skew:                          -1.278   Prob(JB):                    1.52e-101\n",
      "Kurtosis:                       7.790   Cond. No.                         85.5\n",
      "==============================================================================\n",
      "\n",
      "Notes:\n",
      "[1] Standard Errors assume that the covariance matrix of the errors is correctly specified.\n",
      "0.9458142346807298 0.9455252439323604\n",
      "Intercept    6.039815\n",
      "FLOPs_G      1.296671\n",
      "x4           0.699345\n",
      "dtype: float64\n"
     ]
    },
    {
     "data": {
      "image/png": "[encoded data removed]",
      "text/plain": [
       "<Figure size 432x288 with 1 Axes>"
      ]
     },
     "metadata": {
      "needs_background": "light"
     },
     "output_type": "display_data"
    }
   ],
   "source": [
    "import pandas\n",
    "import statsmodels.formula.api as sm\n",
    "import matplotlib.pyplot as plt\n",
    "df = pandas.read_csv(\"model_result.csv\")\n",
    "x1 = df[\"FLOPs_G\"]\n",
    "x2 = df[\"Total_params_M\"]\n",
    "x3 = df[\"image_shape_x\"]\n",
    "x4 = df[\"Memory_M\"]\n",
    "x5 = df[\"number of layers\"]\n",
    "y = df[\"Execution_time\"]\n",
    "result = sm.ols(formula=\"Execution_time ~   FLOPs_G + x4  \", data=df).fit()\n",
    "print (result.summary())\n",
    "print (result.rsquared, result.rsquared_adj)\n",
    "plt.xlabel(\"FLOPs(G)\")\n",
    "plt.ylabel(\"Execution_time(ms)\")\n",
    "plt.title(\"The relationship between FLOPs and Execution_time \")\n",
    "plt.scatter(x1, y)\n",
    "print(result.params)\n"
   ]
  },
  {
   "cell_type": "code",
   "execution_count": 11,
   "id": "b9503f1f",
   "metadata": {},
   "outputs": [
    {
     "data": {
      "text/plain": [
       "0     0.51\n",
       "1     0.59\n",
       "2     0.59\n",
       "3     0.69\n",
       "4     0.62\n",
       "      ... \n",
       "85    4.34\n",
       "86    5.42\n",
       "87    5.35\n",
       "88    5.54\n",
       "89    6.36\n",
       "Name: FLOPs, Length: 90, dtype: float64"
      ]
     },
     "execution_count": 11,
     "metadata": {},
     "output_type": "execute_result"
    }
   ],
   "source": [
    "pred_df = pandas.read_csv(\"para_count_AlexNet.csv\")\n",
    "pred_x1 = pred_df[\"FLOPs\"]\n",
    "pred_x2 = pred_df[\"Memory(M)\"]\n",
    "\n",
    "#print(result.predict(pred_x1,pred_x2))"
   ]
  },
  {
   "cell_type": "code",
   "execution_count": 1,
   "id": "c54deefd",
   "metadata": {},
   "outputs": [
    {
     "name": "stdout",
     "output_type": "stream",
     "text": [
      "                            OLS Regression Results                            \n",
      "==============================================================================\n",
      "Dep. Variable:         Execution_time   R-squared:                       0.363\n",
      "Model:                            OLS   Adj. R-squared:                  0.350\n",
      "Method:                 Least Squares   F-statistic:                     30.14\n",
      "Date:                Sun, 10 Apr 2022   Prob (F-statistic):           1.16e-06\n",
      "Time:                        09:06:19   Log-Likelihood:                -315.51\n",
      "No. Observations:                  55   AIC:                             635.0\n",
      "Df Residuals:                      53   BIC:                             639.0\n",
      "Df Model:                           1                                         \n",
      "Covariance Type:            nonrobust                                         \n",
      "==================================================================================\n",
      "                     coef    std err          t      P>|t|      [0.025      0.975]\n",
      "----------------------------------------------------------------------------------\n",
      "Intercept         34.1320     13.635      2.503      0.015       6.783      61.481\n",
      "Total_params_M     0.9420      0.172      5.490      0.000       0.598       1.286\n",
      "==============================================================================\n",
      "Omnibus:                       29.604   Durbin-Watson:                   0.398\n",
      "Prob(Omnibus):                  0.000   Jarque-Bera (JB):               50.882\n",
      "Skew:                           1.852   Prob(JB):                     8.94e-12\n",
      "Kurtosis:                       5.913   Cond. No.                         105.\n",
      "==============================================================================\n",
      "\n",
      "Notes:\n",
      "[1] Standard Errors assume that the covariance matrix of the errors is correctly specified.\n",
      "0.36252625719643805 0.3504984507284463\n"
     ]
    },
    {
     "data": {
      "text/plain": [
       "<matplotlib.collections.PathCollection at 0x7fa330a4d350>"
      ]
     },
     "execution_count": 1,
     "metadata": {},
     "output_type": "execute_result"
    },
    {
     "data": {
      "image/png": "[encoded data removed]",
      "text/plain": [
       "<Figure size 432x288 with 1 Axes>"
      ]
     },
     "metadata": {
      "needs_background": "light"
     },
     "output_type": "display_data"
    }
   ],
   "source": [
    "import pandas\n",
    "import statsmodels.formula.api as sm\n",
    "import matplotlib.pyplot as plt\n",
    "df = pandas.read_csv(\"model_result.csv\")\n",
    "x1 = df[\"FLOPs_G\"]\n",
    "x2 = df[\"Total_params_M\"]\n",
    "x3 = df[\"image_shape_x\"]\n",
    "x4 = df[\"Memory_M\"]\n",
    "y = df[\"Execution_time\"]\n",
    "\n",
    "result = sm.ols(formula=\"Execution_time ~   Total_params_M \", data=df).fit()\n",
    "print (result.summary())\n",
    "print (result.rsquared, result.rsquared_adj)\n",
    "plt.xlabel(\"Total_params(M)\")\n",
    "plt.ylabel(\"Execution_time(ms)\")\n",
    "plt.title(\"The relationship between Total_params and Execution_time \")\n",
    "plt.scatter(x2, y)"
   ]
  },
  {
   "cell_type": "code",
   "execution_count": 1,
   "id": "90e82095",
   "metadata": {},
   "outputs": [
    {
     "name": "stdout",
     "output_type": "stream",
     "text": [
      "                            OLS Regression Results                            \n",
      "==============================================================================\n",
      "Dep. Variable:         Execution_time   R-squared:                       0.581\n",
      "Model:                            OLS   Adj. R-squared:                  0.573\n",
      "Method:                 Least Squares   F-statistic:                     73.52\n",
      "Date:                Sun, 10 Apr 2022   Prob (F-statistic):           1.37e-11\n",
      "Time:                        09:19:50   Log-Likelihood:                -303.96\n",
      "No. Observations:                  55   AIC:                             611.9\n",
      "Df Residuals:                      53   BIC:                             615.9\n",
      "Df Model:                           1                                         \n",
      "Covariance Type:            nonrobust                                         \n",
      "=================================================================================\n",
      "                    coef    std err          t      P>|t|      [0.025      0.975]\n",
      "---------------------------------------------------------------------------------\n",
      "Intercept       -40.7573     16.692     -2.442      0.018     -74.238      -7.277\n",
      "image_shape_x     0.5433      0.063      8.574      0.000       0.416       0.670\n",
      "==============================================================================\n",
      "Omnibus:                        6.579   Durbin-Watson:                   0.363\n",
      "Prob(Omnibus):                  0.037   Jarque-Bera (JB):                5.704\n",
      "Skew:                          -0.757   Prob(JB):                       0.0577\n",
      "Kurtosis:                       3.446   Cond. No.                         526.\n",
      "==============================================================================\n",
      "\n",
      "Notes:\n",
      "[1] Standard Errors assume that the covariance matrix of the errors is correctly specified.\n",
      "0.5810950962787595 0.5731912301708116\n"
     ]
    },
    {
     "data": {
      "text/plain": [
       "<matplotlib.collections.PathCollection at 0x7fe4d560be50>"
      ]
     },
     "execution_count": 1,
     "metadata": {},
     "output_type": "execute_result"
    },
    {
     "data": {
      "image/png": "[encoded data removed]",
      "text/plain": [
       "<Figure size 432x288 with 1 Axes>"
      ]
     },
     "metadata": {
      "needs_background": "light"
     },
     "output_type": "display_data"
    }
   ],
   "source": [
    "import pandas\n",
    "import statsmodels.formula.api as sm\n",
    "import matplotlib.pyplot as plt\n",
    "df = pandas.read_csv(\"model_result.csv\")\n",
    "x1 = df[\"FLOPs_G\"]\n",
    "x2 = df[\"Total_params_M\"]\n",
    "x3 = df[\"image_shape_x\"]\n",
    "x4 = df[\"Memory_M\"]\n",
    "y = df[\"Execution_time\"]\n",
    "\n",
    "result = sm.ols(formula=\"Execution_time ~   image_shape_x \", data=df).fit()\n",
    "print (result.summary())\n",
    "print (result.rsquared, result.rsquared_adj)\n",
    "plt.xlabel(\"image_shape_x\")\n",
    "plt.ylabel(\"Execution_time(ms)\")\n",
    "plt.title(\"The relationship between image_shape and Execution_time \")\n",
    "plt.scatter(x3, y)"
   ]
  },
  {
   "cell_type": "code",
   "execution_count": 4,
   "id": "928696ce",
   "metadata": {},
   "outputs": [
    {
     "name": "stdout",
     "output_type": "stream",
     "text": [
      "                            OLS Regression Results                            \n",
      "==============================================================================\n",
      "Dep. Variable:         Execution_time   R-squared:                       0.924\n",
      "Model:                            OLS   Adj. R-squared:                  0.924\n",
      "Method:                 Least Squares   F-statistic:                     4587.\n",
      "Date:                Wed, 13 Apr 2022   Prob (F-statistic):          9.33e-213\n",
      "Time:                        06:25:42   Log-Likelihood:                -1572.6\n",
      "No. Observations:                 378   AIC:                             3149.\n",
      "Df Residuals:                     376   BIC:                             3157.\n",
      "Df Model:                           1                                         \n",
      "Covariance Type:            nonrobust                                         \n",
      "==============================================================================\n",
      "                 coef    std err          t      P>|t|      [0.025      0.975]\n",
      "------------------------------------------------------------------------------\n",
      "Intercept      6.5066      1.039      6.265      0.000       4.464       8.549\n",
      "Memory_M       1.1289      0.017     67.726      0.000       1.096       1.162\n",
      "==============================================================================\n",
      "Omnibus:                      149.657   Durbin-Watson:                   1.759\n",
      "Prob(Omnibus):                  0.000   Jarque-Bera (JB):              961.487\n",
      "Skew:                          -1.532   Prob(JB):                    1.64e-209\n",
      "Kurtosis:                      10.187   Cond. No.                         80.9\n",
      "==============================================================================\n",
      "\n",
      "Notes:\n",
      "[1] Standard Errors assume that the covariance matrix of the errors is correctly specified.\n",
      "0.9242363263616842 0.9240348272296673\n"
     ]
    },
    {
     "data": {
      "text/plain": [
       "0       7.928527\n",
       "1      12.083253\n",
       "2      19.007796\n",
       "3      28.702157\n",
       "4      41.166334\n",
       "         ...    \n",
       "373    55.750720\n",
       "374    51.085179\n",
       "375    48.343828\n",
       "376    48.824009\n",
       "377    47.404420\n",
       "Length: 378, dtype: float64"
      ]
     },
     "execution_count": 4,
     "metadata": {},
     "output_type": "execute_result"
    },
    {
     "data": {
      "image/png": "[encoded data removed]",
      "text/plain": [
       "<Figure size 432x288 with 1 Axes>"
      ]
     },
     "metadata": {
      "needs_background": "light"
     },
     "output_type": "display_data"
    }
   ],
   "source": [
    "import pandas\n",
    "import statsmodels.formula.api as sm\n",
    "import matplotlib.pyplot as plt\n",
    "df = pandas.read_csv(\"model_result.csv\")\n",
    "x1 = df[\"FLOPs_G\"]\n",
    "x2 = df[\"Total_params_M\"]\n",
    "x3 = df[\"image_shape_x\"]\n",
    "x4 = df[\"Memory_M\"]\n",
    "y = df[\"Execution_time\"]\n",
    "\n",
    "result = sm.ols(formula=\"Execution_time ~   Memory_M \", data=df).fit()\n",
    "print (result.summary())\n",
    "print (result.rsquared, result.rsquared_adj)\n",
    "plt.xlabel(\"Memory(M)\")\n",
    "plt.ylabel(\"Execution_time(ms)\")\n",
    "plt.title(\"The relationship between Memory and Execution_time \")\n",
    "plt.scatter(x4, y)\n",
    "result.predict(x4)"
   ]
  },
  {
   "cell_type": "code",
   "execution_count": 4,
   "id": "27a25991",
   "metadata": {},
   "outputs": [
    {
     "name": "stdout",
     "output_type": "stream",
     "text": [
      "<class 'pandas.core.series.Series'>\n"
     ]
    }
   ],
   "source": [
    "print(type(x4))"
   ]
  },
  {
   "cell_type": "code",
   "execution_count": 4,
   "id": "42bda362",
   "metadata": {},
   "outputs": [
    {
     "name": "stdout",
     "output_type": "stream",
     "text": [
      "0      11.092387\n",
      "1      15.717254\n",
      "2      23.425367\n",
      "3      34.216725\n",
      "4      48.091328\n",
      "5      65.049176\n",
      "6      85.090269\n",
      "7     108.214607\n",
      "8     134.422190\n",
      "9     163.713018\n",
      "10    196.087092\n",
      "11    231.544410\n",
      "12    270.084974\n",
      "13    311.708782\n",
      "14    356.415836\n",
      "15     14.612913\n",
      "16     18.678250\n",
      "17     21.078189\n",
      "18     23.973235\n",
      "19     26.919513\n",
      "20     30.490065\n",
      "21     11.233938\n",
      "22     16.283460\n",
      "23     24.699329\n",
      "24     36.481546\n",
      "25     51.630111\n",
      "26     70.145023\n",
      "27     12.699638\n",
      "28     13.880304\n",
      "29     15.268151\n",
      "30     16.863177\n",
      "31     18.665382\n",
      "32     20.674767\n",
      "33     22.891332\n",
      "34     25.315077\n",
      "35     65.383751\n",
      "36     13.293319\n",
      "37     18.440066\n",
      "38     26.093861\n",
      "39     36.254702\n",
      "40     48.922590\n",
      "41     64.097524\n",
      "42     81.779506\n",
      "43    101.968534\n",
      "44    124.664609\n",
      "45    149.867731\n",
      "46    177.577900\n",
      "47    207.795115\n",
      "48    240.519377\n",
      "49    275.750686\n",
      "50    313.489042\n",
      "51     10.986867\n",
      "52     15.233406\n",
      "53     22.310972\n",
      "54     32.219564\n",
      "dtype: float64\n",
      "ERROR! Session/line number was not unique in database. History logging moved to new session 13\n"
     ]
    }
   ],
   "source": [
    "ypred = result.predict()\n",
    "print(ypred)"
   ]
  },
  {
   "cell_type": "code",
   "execution_count": null,
   "id": "8cf6154f",
   "metadata": {},
   "outputs": [],
   "source": [
    "x1n = np.linspace(20.5, 25, 10)\n",
    "Xnew = np.column_stack((x1n, np.sin(x1n), (x1n - 5) ** 2))\n",
    "Xnew = sm.add_constant(Xnew)\n",
    "ynewpred = olsres.predict(Xnew)  # predict out of sample\n",
    "print(ynewpred)"
   ]
  },
  {
   "cell_type": "code",
   "execution_count": 6,
   "id": "38f7257a",
   "metadata": {},
   "outputs": [
    {
     "name": "stdout",
     "output_type": "stream",
     "text": [
      "Intercept    9.50953\n",
      "Memory_M     1.25667\n",
      "dtype: float64\n"
     ]
    }
   ],
   "source": [
    "print(result.params)"
   ]
  },
  {
   "cell_type": "code",
   "execution_count": null,
   "id": "7ba1cece",
   "metadata": {},
   "outputs": [],
   "source": []
  }
 ],
 "metadata": {
  "kernelspec": {
   "display_name": "Python 3 (ipykernel)",
   "language": "python",
   "name": "python3"
  },
  "language_info": {
   "codemirror_mode": {
    "name": "ipython",
    "version": 3
   },
   "file_extension": ".py",
   "mimetype": "text/x-python",
   "name": "python",
   "nbconvert_exporter": "python",
   "pygments_lexer": "ipython3",
   "version": "3.7.12"
  }
 },
 "nbformat": 4,
 "nbformat_minor": 5
}
