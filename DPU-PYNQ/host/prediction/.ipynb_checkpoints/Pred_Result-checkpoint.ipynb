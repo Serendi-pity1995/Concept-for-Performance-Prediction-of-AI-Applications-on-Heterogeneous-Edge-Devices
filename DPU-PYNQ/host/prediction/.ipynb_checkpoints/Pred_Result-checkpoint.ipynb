{
 "cells": [
  {
   "cell_type": "code",
   "execution_count": null,
   "id": "1dc18439",
   "metadata": {},
   "outputs": [],
   "source": [
    "import pandas\n",
    "import statsmodels.formula.api as sm\n",
    "import matplotlib.pyplot as plt\n",
    "df = pandas.read_csv(\"pred_result_AlexNet.csv\")\n",
    "x = df[\"index\"]\n",
    "y1 = df[\"error_2variables\"]\n",
    "y2 = df[\"error_2variables\"\"]\n",
    "\n",
    "plt.xlabel(\"index\")\n",
    "plt.ylabel(\"error(%)\")\n",
    "plt.title(\"prediction error \")\n",
    "plt.scatter(x, y1)\n"
   ]
  },
  {
   "cell_type": "code",
   "execution_count": null,
   "id": "abc558a0",
   "metadata": {},
   "outputs": [],
   "source": [
    "import pandas\n",
    "import statsmodels.formula.api as sm\n",
    "import matplotlib.pyplot as plt\n",
    "df = pandas.read_csv(\"pred_result_AlexNet.csv\")\n",
    "x = df[\"index\"]\n",
    "y1 = df[\"error_2variables\"]\n",
    "y2 = df[\"error_2variables\"\"]\n",
    "\n",
    "plt.xlabel(\"index\")\n",
    "plt.ylabel(\"error(%)\")\n",
    "plt.title(\"prediction error \")\n",
    "plt.scatter(x, y2)"
   ]
  }
 ],
 "metadata": {
  "kernelspec": {
   "display_name": "Python 3 (ipykernel)",
   "language": "python",
   "name": "python3"
  },
  "language_info": {
   "codemirror_mode": {
    "name": "ipython",
    "version": 3
   },
   "file_extension": ".py",
   "mimetype": "text/x-python",
   "name": "python",
   "nbconvert_exporter": "python",
   "pygments_lexer": "ipython3",
   "version": "3.7.12"
  }
 },
 "nbformat": 4,
 "nbformat_minor": 5
}
