{
 "cells": [
  {
   "cell_type": "code",
   "execution_count": 14,
   "id": "7ee20e5d",
   "metadata": {},
   "outputs": [
    {
     "name": "stdout",
     "output_type": "stream",
     "text": [
      "TensorFlow version: 2.6.0\n"
     ]
    }
   ],
   "source": [
    "import os\n",
    "import csv\n",
    "import numpy as np\n",
    "import matplotlib.pyplot as plt\n",
    "import tensorflow as tf\n",
    "from itertools import product\n",
    "print(\"TensorFlow version:\", tf.__version__)\n",
    "\n",
    "(x_train, y_train), (x_test, y_test) = tf.keras.datasets.mnist.load_data()\n",
    "\n",
    "x_train, x_test = x_train / 255.0, x_test / 255.0\n",
    "x_train = np.expand_dims(x_train, axis=3)\n",
    "x_test = np.expand_dims(x_test, axis=3)\n",
    "\n",
    "model_num = 1\n",
    "Conv2D_kernel_range = range(8,64,8)\n",
    "Conv2D_size_range = range(3,12,3)\n",
    "MaxPooling_size_range = range(1,4,1)\n",
    "Dense_size_range = range(32,128,16)\n",
    "with open(\"para_count.csv\",\"w\") as csvfile:\n",
    "        writer = csv.writer(csvfile)\n",
    "        writer.writerows([[\"model_num\", \"Conv2D_kernel\", \"Conv2D_size\", \"MaxPooling_size\", \"Dense_size\", \"Total_params\"],])\n",
    "            \n",
    "for Conv2D_kernel, Conv2D_size, MaxPooling_size, Dense_size in product(Conv2D_kernel_range, Conv2D_size_range, MaxPooling_size_range, Dense_size_range):\n",
    "    inputs = tf.keras.Input(shape=(28,28,1))\n",
    "    x = tf.keras.layers.Conv2D(Conv2D_kernel, (Conv2D_size,Conv2D_size), activation='relu', input_shape=(28,28,1))(inputs)\n",
    "    x = tf.keras.layers.MaxPooling2D((MaxPooling_size,MaxPooling_size))(x)\n",
    "    x = tf.keras.layers.Flatten()(x)\n",
    "    x = tf.keras.layers.Dense(Dense_size, activation='relu')(x)\n",
    "    outputs = tf.keras.layers.Dense(10, activation='softmax')(x)\n",
    "    \n",
    "    model = tf.keras.Model(inputs=inputs, outputs=outputs, name='mnist_classifier')\n",
    "    Total_params = model.count_params()\n",
    "    with open(\"para_count.csv\",\"a+\") as csvfile:\n",
    "        writer = csv.writer(csvfile)\n",
    "        writer.writerows([[model_num, Conv2D_kernel, Conv2D_size, MaxPooling_size, Dense_size, Total_params],])\n",
    "\n",
    "        model_num = model_num + 1"
   ]
  },
  {
   "cell_type": "code",
   "execution_count": null,
   "id": "a7a715f8",
   "metadata": {},
   "outputs": [],
   "source": []
  }
 ],
 "metadata": {
  "kernelspec": {
   "display_name": "Python 3 (ipykernel)",
   "language": "python",
   "name": "python3"
  },
  "language_info": {
   "codemirror_mode": {
    "name": "ipython",
    "version": 3
   },
   "file_extension": ".py",
   "mimetype": "text/x-python",
   "name": "python",
   "nbconvert_exporter": "python",
   "pygments_lexer": "ipython3",
   "version": "3.7.12"
  }
 },
 "nbformat": 4,
 "nbformat_minor": 5
}
