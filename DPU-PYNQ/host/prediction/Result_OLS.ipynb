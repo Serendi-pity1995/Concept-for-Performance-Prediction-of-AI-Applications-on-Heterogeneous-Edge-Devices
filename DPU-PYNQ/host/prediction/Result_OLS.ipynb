{
 "cells": [
  {
   "cell_type": "code",
   "execution_count": 14,
   "id": "1f4fe77d",
   "metadata": {},
   "outputs": [
    {
     "name": "stdout",
     "output_type": "stream",
     "text": [
      "                            OLS Regression Results                            \n",
      "==============================================================================\n",
      "Dep. Variable:         Execution_time   R-squared:                       0.930\n",
      "Model:                            OLS   Adj. R-squared:                  0.929\n",
      "Method:                 Least Squares   F-statistic:                     2428.\n",
      "Date:                Thu, 14 Apr 2022   Prob (F-statistic):          9.86e-213\n",
      "Time:                        02:47:32   Log-Likelihood:                -1464.2\n",
      "No. Observations:                 371   AIC:                             2934.\n",
      "Df Residuals:                     368   BIC:                             2946.\n",
      "Df Model:                           2                                         \n",
      "Covariance Type:            nonrobust                                         \n",
      "==============================================================================\n",
      "                 coef    std err          t      P>|t|      [0.025      0.975]\n",
      "------------------------------------------------------------------------------\n",
      "Intercept      4.5924      0.907      5.063      0.000       2.809       6.376\n",
      "FLOPs_G        1.9265      0.151     12.797      0.000       1.630       2.223\n",
      "Memory_M       0.5362      0.045     11.907      0.000       0.448       0.625\n",
      "==============================================================================\n",
      "Omnibus:                      131.910   Durbin-Watson:                   2.387\n",
      "Prob(Omnibus):                  0.000   Jarque-Bera (JB):              534.065\n",
      "Skew:                          -1.517   Prob(JB):                    1.07e-116\n",
      "Kurtosis:                       8.035   Cond. No.                         80.3\n",
      "==============================================================================\n",
      "\n",
      "Notes:\n",
      "[1] Standard Errors assume that the covariance matrix of the errors is correctly specified.\n",
      "0.9295643296794371 0.9291815271233471\n",
      "Intercept    4.592368\n",
      "FLOPs_G      1.926516\n",
      "Memory_M     0.536233\n",
      "dtype: float64\n"
     ]
    },
    {
     "data": {
      "image/png": "[encoded data removed]",
      "text/plain": [
       "<Figure size 432x288 with 1 Axes>"
      ]
     },
     "metadata": {
      "needs_background": "light"
     },
     "output_type": "display_data"
    }
   ],
   "source": [
    "import pandas\n",
    "import statsmodels.formula.api as sm\n",
    "import matplotlib.pyplot as plt\n",
    "df = pandas.read_csv(\"model_result.csv\")\n",
    "x1 = df[\"FLOPs_G\"]\n",
    "x2 = df[\"Total_params_M\"]\n",
    "x3 = df[\"image_shape_x\"]\n",
    "x4 = df[\"Memory_M\"]\n",
    "x5 = df[\"number of layers\"]\n",
    "y = df[\"Execution_time\"]\n",
    "result = sm.ols(formula=\"Execution_time ~ FLOPs_G + Memory_M  \", data=df).fit()\n",
    "print (result.summary())\n",
    "print (result.rsquared, result.rsquared_adj)\n",
    "plt.xlabel(\"FLOPs(G)\")\n",
    "plt.ylabel(\"Execution_time(ms)\")\n",
    "plt.title(\"The relationship between FLOPs and Execution_time \")\n",
    "plt.scatter(x1, y)\n",
    "print(result.params)\n"
   ]
  },
  {
   "cell_type": "code",
   "execution_count": 40,
   "id": "337b371a",
   "metadata": {},
   "outputs": [
    {
     "ename": "TypeError",
     "evalue": "'(slice('FLOPs_G', [1, 2, 3], None), slice('Memory_M', [1, 2, 3], None))' is an invalid key",
     "output_type": "error",
     "traceback": [
      "\u001b[0;31m---------------------------------------------------------------------------\u001b[0m",
      "\u001b[0;31mTypeError\u001b[0m                                 Traceback (most recent call last)",
      "\u001b[0;32m/tmp/ipykernel_6905/3818754455.py\u001b[0m in \u001b[0;36m<module>\u001b[0;34m\u001b[0m\n\u001b[1;32m      2\u001b[0m \u001b[0mpred_x1\u001b[0m \u001b[0;34m=\u001b[0m \u001b[0mpred_df\u001b[0m\u001b[0;34m[\u001b[0m\u001b[0;34m\"FLOPs_G\"\u001b[0m\u001b[0;34m]\u001b[0m\u001b[0;34m\u001b[0m\u001b[0;34m\u001b[0m\u001b[0m\n\u001b[1;32m      3\u001b[0m \u001b[0mpred_x2\u001b[0m \u001b[0;34m=\u001b[0m \u001b[0mpred_df\u001b[0m\u001b[0;34m[\u001b[0m\u001b[0;34m\"Memory_M\"\u001b[0m\u001b[0;34m]\u001b[0m\u001b[0;34m\u001b[0m\u001b[0;34m\u001b[0m\u001b[0m\n\u001b[0;32m----> 4\u001b[0;31m \u001b[0mresult\u001b[0m\u001b[0;34m.\u001b[0m\u001b[0mpredict\u001b[0m\u001b[0;34m(\u001b[0m\u001b[0mpred_df\u001b[0m\u001b[0;34m[\u001b[0m\u001b[0;34m'FLOPs_G'\u001b[0m\u001b[0;34m:\u001b[0m \u001b[0;34m[\u001b[0m\u001b[0;36m1\u001b[0m\u001b[0;34m,\u001b[0m\u001b[0;36m2\u001b[0m\u001b[0;34m,\u001b[0m\u001b[0;36m3\u001b[0m\u001b[0;34m]\u001b[0m\u001b[0;34m,\u001b[0m\u001b[0;34m\"Memory_M\"\u001b[0m\u001b[0;34m:\u001b[0m\u001b[0;34m[\u001b[0m\u001b[0;36m1\u001b[0m\u001b[0;34m,\u001b[0m\u001b[0;36m2\u001b[0m\u001b[0;34m,\u001b[0m\u001b[0;36m3\u001b[0m\u001b[0;34m]\u001b[0m \u001b[0;34m]\u001b[0m\u001b[0;34m)\u001b[0m\u001b[0;34m\u001b[0m\u001b[0;34m\u001b[0m\u001b[0m\n\u001b[0m\u001b[1;32m      5\u001b[0m \u001b[0;31m#result.predict(pred_x1)\u001b[0m\u001b[0;34m\u001b[0m\u001b[0;34m\u001b[0m\u001b[0;34m\u001b[0m\u001b[0m\n",
      "\u001b[0;32m/opt/vitis_ai/conda/envs/vitis-ai-tensorflow2/lib/python3.7/site-packages/pandas/core/frame.py\u001b[0m in \u001b[0;36m__getitem__\u001b[0;34m(self, key)\u001b[0m\n\u001b[1;32m   3022\u001b[0m             \u001b[0;32mif\u001b[0m \u001b[0mself\u001b[0m\u001b[0;34m.\u001b[0m\u001b[0mcolumns\u001b[0m\u001b[0;34m.\u001b[0m\u001b[0mnlevels\u001b[0m \u001b[0;34m>\u001b[0m \u001b[0;36m1\u001b[0m\u001b[0;34m:\u001b[0m\u001b[0;34m\u001b[0m\u001b[0;34m\u001b[0m\u001b[0m\n\u001b[1;32m   3023\u001b[0m                 \u001b[0;32mreturn\u001b[0m \u001b[0mself\u001b[0m\u001b[0;34m.\u001b[0m\u001b[0m_getitem_multilevel\u001b[0m\u001b[0;34m(\u001b[0m\u001b[0mkey\u001b[0m\u001b[0;34m)\u001b[0m\u001b[0;34m\u001b[0m\u001b[0;34m\u001b[0m\u001b[0m\n\u001b[0;32m-> 3024\u001b[0;31m             \u001b[0mindexer\u001b[0m \u001b[0;34m=\u001b[0m \u001b[0mself\u001b[0m\u001b[0;34m.\u001b[0m\u001b[0mcolumns\u001b[0m\u001b[0;34m.\u001b[0m\u001b[0mget_loc\u001b[0m\u001b[0;34m(\u001b[0m\u001b[0mkey\u001b[0m\u001b[0;34m)\u001b[0m\u001b[0;34m\u001b[0m\u001b[0;34m\u001b[0m\u001b[0m\n\u001b[0m\u001b[1;32m   3025\u001b[0m             \u001b[0;32mif\u001b[0m \u001b[0mis_integer\u001b[0m\u001b[0;34m(\u001b[0m\u001b[0mindexer\u001b[0m\u001b[0;34m)\u001b[0m\u001b[0;34m:\u001b[0m\u001b[0;34m\u001b[0m\u001b[0;34m\u001b[0m\u001b[0m\n\u001b[1;32m   3026\u001b[0m                 \u001b[0mindexer\u001b[0m \u001b[0;34m=\u001b[0m \u001b[0;34m[\u001b[0m\u001b[0mindexer\u001b[0m\u001b[0;34m]\u001b[0m\u001b[0;34m\u001b[0m\u001b[0;34m\u001b[0m\u001b[0m\n",
      "\u001b[0;32m/opt/vitis_ai/conda/envs/vitis-ai-tensorflow2/lib/python3.7/site-packages/pandas/core/indexes/base.py\u001b[0m in \u001b[0;36mget_loc\u001b[0;34m(self, key, method, tolerance)\u001b[0m\n\u001b[1;32m   3078\u001b[0m             \u001b[0mcasted_key\u001b[0m \u001b[0;34m=\u001b[0m \u001b[0mself\u001b[0m\u001b[0;34m.\u001b[0m\u001b[0m_maybe_cast_indexer\u001b[0m\u001b[0;34m(\u001b[0m\u001b[0mkey\u001b[0m\u001b[0;34m)\u001b[0m\u001b[0;34m\u001b[0m\u001b[0;34m\u001b[0m\u001b[0m\n\u001b[1;32m   3079\u001b[0m             \u001b[0;32mtry\u001b[0m\u001b[0;34m:\u001b[0m\u001b[0;34m\u001b[0m\u001b[0;34m\u001b[0m\u001b[0m\n\u001b[0;32m-> 3080\u001b[0;31m                 \u001b[0;32mreturn\u001b[0m \u001b[0mself\u001b[0m\u001b[0;34m.\u001b[0m\u001b[0m_engine\u001b[0m\u001b[0;34m.\u001b[0m\u001b[0mget_loc\u001b[0m\u001b[0;34m(\u001b[0m\u001b[0mcasted_key\u001b[0m\u001b[0;34m)\u001b[0m\u001b[0;34m\u001b[0m\u001b[0;34m\u001b[0m\u001b[0m\n\u001b[0m\u001b[1;32m   3081\u001b[0m             \u001b[0;32mexcept\u001b[0m \u001b[0mKeyError\u001b[0m \u001b[0;32mas\u001b[0m \u001b[0merr\u001b[0m\u001b[0;34m:\u001b[0m\u001b[0;34m\u001b[0m\u001b[0;34m\u001b[0m\u001b[0m\n\u001b[1;32m   3082\u001b[0m                 \u001b[0;32mraise\u001b[0m \u001b[0mKeyError\u001b[0m\u001b[0;34m(\u001b[0m\u001b[0mkey\u001b[0m\u001b[0;34m)\u001b[0m \u001b[0;32mfrom\u001b[0m \u001b[0merr\u001b[0m\u001b[0;34m\u001b[0m\u001b[0;34m\u001b[0m\u001b[0m\n",
      "\u001b[0;32mpandas/_libs/index.pyx\u001b[0m in \u001b[0;36mpandas._libs.index.IndexEngine.get_loc\u001b[0;34m()\u001b[0m\n",
      "\u001b[0;32mpandas/_libs/index.pyx\u001b[0m in \u001b[0;36mpandas._libs.index.IndexEngine.get_loc\u001b[0;34m()\u001b[0m\n",
      "\u001b[0;31mTypeError\u001b[0m: '(slice('FLOPs_G', [1, 2, 3], None), slice('Memory_M', [1, 2, 3], None))' is an invalid key"
     ]
    }
   ],
   "source": [
    "pred_df = pandas.read_csv(\"para_count_AlexNet.csv\")\n",
    "pred_x1 = pred_df[\"FLOPs_G\"]\n",
    "pred_x2 = pred_df[\"Memory_M\"]\n",
    "result.predict(pred_df['FLOPs_G': [1,2,3],\"Memory_M\":[1,2,3] ])\n",
    "#result.predict(pred_x1)"
   ]
  },
  {
   "cell_type": "code",
   "execution_count": 2,
   "id": "c54deefd",
   "metadata": {},
   "outputs": [
    {
     "name": "stdout",
     "output_type": "stream",
     "text": [
      "                            OLS Regression Results                            \n",
      "==============================================================================\n",
      "Dep. Variable:         Execution_time   R-squared:                       0.000\n",
      "Model:                            OLS   Adj. R-squared:                 -0.003\n",
      "Method:                 Least Squares   F-statistic:                   0.06296\n",
      "Date:                Thu, 14 Apr 2022   Prob (F-statistic):              0.802\n",
      "Time:                        02:33:01   Log-Likelihood:                -1956.3\n",
      "No. Observations:                 371   AIC:                             3917.\n",
      "Df Residuals:                     369   BIC:                             3925.\n",
      "Df Model:                           1                                         \n",
      "Covariance Type:            nonrobust                                         \n",
      "==================================================================================\n",
      "                     coef    std err          t      P>|t|      [0.025      0.975]\n",
      "----------------------------------------------------------------------------------\n",
      "Intercept         46.4484      3.788     12.261      0.000      38.999      53.897\n",
      "Total_params_M     0.0331      0.132      0.251      0.802      -0.226       0.292\n",
      "==============================================================================\n",
      "Omnibus:                      120.373   Durbin-Watson:                   0.432\n",
      "Prob(Omnibus):                  0.000   Jarque-Bera (JB):              268.572\n",
      "Skew:                           1.680   Prob(JB):                     4.79e-59\n",
      "Kurtosis:                       5.466   Cond. No.                         44.3\n",
      "==============================================================================\n",
      "\n",
      "Notes:\n",
      "[1] Standard Errors assume that the covariance matrix of the errors is correctly specified.\n",
      "0.00017060001532032132 -0.002538964754285722\n"
     ]
    },
    {
     "data": {
      "text/plain": [
       "<matplotlib.collections.PathCollection at 0x7f8a611f3890>"
      ]
     },
     "execution_count": 2,
     "metadata": {},
     "output_type": "execute_result"
    },
    {
     "data": {
      "image/png": "[encoded data removed]",
      "text/plain": [
       "<Figure size 432x288 with 1 Axes>"
      ]
     },
     "metadata": {
      "needs_background": "light"
     },
     "output_type": "display_data"
    }
   ],
   "source": [
    "import pandas\n",
    "import statsmodels.formula.api as sm\n",
    "import matplotlib.pyplot as plt\n",
    "df = pandas.read_csv(\"model_result.csv\")\n",
    "x1 = df[\"FLOPs_G\"]\n",
    "x2 = df[\"Total_params_M\"]\n",
    "x3 = df[\"image_shape_x\"]\n",
    "x4 = df[\"Memory_M\"]\n",
    "y = df[\"Execution_time\"]\n",
    "\n",
    "result = sm.ols(formula=\"Execution_time ~   Total_params_M \", data=df).fit()\n",
    "print (result.summary())\n",
    "print (result.rsquared, result.rsquared_adj)\n",
    "plt.xlabel(\"Total_params(M)\")\n",
    "plt.ylabel(\"Execution_time(ms)\")\n",
    "plt.title(\"The relationship between Total_params and Execution_time \")\n",
    "plt.scatter(x2, y)"
   ]
  },
  {
   "cell_type": "code",
   "execution_count": 3,
   "id": "90e82095",
   "metadata": {},
   "outputs": [
    {
     "name": "stdout",
     "output_type": "stream",
     "text": [
      "                            OLS Regression Results                            \n",
      "==============================================================================\n",
      "Dep. Variable:         Execution_time   R-squared:                       0.734\n",
      "Model:                            OLS   Adj. R-squared:                  0.734\n",
      "Method:                 Least Squares   F-statistic:                     1020.\n",
      "Date:                Thu, 14 Apr 2022   Prob (F-statistic):          2.91e-108\n",
      "Time:                        02:34:44   Log-Likelihood:                -1710.5\n",
      "No. Observations:                 371   AIC:                             3425.\n",
      "Df Residuals:                     369   BIC:                             3433.\n",
      "Df Model:                           1                                         \n",
      "Covariance Type:            nonrobust                                         \n",
      "=================================================================================\n",
      "                    coef    std err          t      P>|t|      [0.025      0.975]\n",
      "---------------------------------------------------------------------------------\n",
      "Intercept       -14.7995      2.317     -6.388      0.000     -19.355     -10.244\n",
      "image_shape_x     0.3538      0.011     31.940      0.000       0.332       0.376\n",
      "==============================================================================\n",
      "Omnibus:                       43.941   Durbin-Watson:                   1.138\n",
      "Prob(Omnibus):                  0.000   Jarque-Bera (JB):              298.598\n",
      "Skew:                          -0.041   Prob(JB):                     1.45e-65\n",
      "Kurtosis:                       7.394   Cond. No.                         383.\n",
      "==============================================================================\n",
      "\n",
      "Notes:\n",
      "[1] Standard Errors assume that the covariance matrix of the errors is correctly specified.\n",
      "0.7343691364042528 0.73364926956524\n"
     ]
    },
    {
     "data": {
      "text/plain": [
       "<matplotlib.collections.PathCollection at 0x7f8a6115e3d0>"
      ]
     },
     "execution_count": 3,
     "metadata": {},
     "output_type": "execute_result"
    },
    {
     "data": {
      "image/png": "[encoded data removed]",
      "text/plain": [
       "<Figure size 432x288 with 1 Axes>"
      ]
     },
     "metadata": {
      "needs_background": "light"
     },
     "output_type": "display_data"
    }
   ],
   "source": [
    "import pandas\n",
    "import statsmodels.formula.api as sm\n",
    "import matplotlib.pyplot as plt\n",
    "df = pandas.read_csv(\"model_result.csv\")\n",
    "x1 = df[\"FLOPs_G\"]\n",
    "x2 = df[\"Total_params_M\"]\n",
    "x3 = df[\"image_shape_x\"]\n",
    "x4 = df[\"Memory_M\"]\n",
    "y = df[\"Execution_time\"]\n",
    "\n",
    "result = sm.ols(formula=\"Execution_time ~   image_shape_x \", data=df).fit()\n",
    "print (result.summary())\n",
    "print (result.rsquared, result.rsquared_adj)\n",
    "plt.xlabel(\"image_shape_x\")\n",
    "plt.ylabel(\"Execution_time(ms)\")\n",
    "plt.title(\"The relationship between image_shape and Execution_time \")\n",
    "plt.scatter(x3, y)"
   ]
  },
  {
   "cell_type": "code",
   "execution_count": 5,
   "id": "928696ce",
   "metadata": {},
   "outputs": [
    {
     "name": "stdout",
     "output_type": "stream",
     "text": [
      "                            OLS Regression Results                            \n",
      "==============================================================================\n",
      "Dep. Variable:         Execution_time   R-squared:                       0.898\n",
      "Model:                            OLS   Adj. R-squared:                  0.898\n",
      "Method:                 Least Squares   F-statistic:                     3256.\n",
      "Date:                Thu, 14 Apr 2022   Prob (F-statistic):          3.59e-185\n",
      "Time:                        02:35:15   Log-Likelihood:                -1532.5\n",
      "No. Observations:                 371   AIC:                             3069.\n",
      "Df Residuals:                     369   BIC:                             3077.\n",
      "Df Model:                           1                                         \n",
      "Covariance Type:            nonrobust                                         \n",
      "==============================================================================\n",
      "                 coef    std err          t      P>|t|      [0.025      0.975]\n",
      "------------------------------------------------------------------------------\n",
      "Intercept      7.9382      1.043      7.614      0.000       5.888       9.988\n",
      "Memory_M       1.0763      0.019     57.065      0.000       1.039       1.113\n",
      "==============================================================================\n",
      "Omnibus:                      110.244   Durbin-Watson:                   1.908\n",
      "Prob(Omnibus):                  0.000   Jarque-Bera (JB):              685.969\n",
      "Skew:                          -1.091   Prob(JB):                    1.11e-149\n",
      "Kurtosis:                       9.294   Cond. No.                         73.5\n",
      "==============================================================================\n",
      "\n",
      "Notes:\n",
      "[1] Standard Errors assume that the covariance matrix of the errors is correctly specified.\n",
      "0.8982195641369268 0.8979437363974605\n"
     ]
    },
    {
     "data": {
      "text/plain": [
       "<matplotlib.collections.PathCollection at 0x7f8a2dd44310>"
      ]
     },
     "execution_count": 5,
     "metadata": {},
     "output_type": "execute_result"
    },
    {
     "data": {
      "image/png": "[encoded data removed]",
      "text/plain": [
       "<Figure size 432x288 with 1 Axes>"
      ]
     },
     "metadata": {
      "needs_background": "light"
     },
     "output_type": "display_data"
    }
   ],
   "source": [
    "import pandas\n",
    "import statsmodels.formula.api as sm\n",
    "import matplotlib.pyplot as plt\n",
    "df = pandas.read_csv(\"model_result.csv\")\n",
    "x1 = df[\"FLOPs_G\"]\n",
    "x2 = df[\"Total_params_M\"]\n",
    "x3 = df[\"image_shape_x\"]\n",
    "x4 = df[\"Memory_M\"]\n",
    "y = df[\"Execution_time\"]\n",
    "\n",
    "result = sm.ols(formula=\"Execution_time ~   Memory_M \", data=df).fit()\n",
    "print (result.summary())\n",
    "print (result.rsquared, result.rsquared_adj)\n",
    "plt.xlabel(\"Memory(M)\")\n",
    "plt.ylabel(\"Execution_time(ms)\")\n",
    "plt.title(\"The relationship between Memory and Execution_time \")\n",
    "plt.scatter(x4, y)\n",
    "#result.predict(x4)"
   ]
  },
  {
   "cell_type": "code",
   "execution_count": 4,
   "id": "27a25991",
   "metadata": {},
   "outputs": [
    {
     "name": "stdout",
     "output_type": "stream",
     "text": [
      "<class 'pandas.core.series.Series'>\n"
     ]
    }
   ],
   "source": [
    "print(type(x4))"
   ]
  },
  {
   "cell_type": "code",
   "execution_count": 4,
   "id": "42bda362",
   "metadata": {},
   "outputs": [
    {
     "name": "stdout",
     "output_type": "stream",
     "text": [
      "0      11.092387\n",
      "1      15.717254\n",
      "2      23.425367\n",
      "3      34.216725\n",
      "4      48.091328\n",
      "5      65.049176\n",
      "6      85.090269\n",
      "7     108.214607\n",
      "8     134.422190\n",
      "9     163.713018\n",
      "10    196.087092\n",
      "11    231.544410\n",
      "12    270.084974\n",
      "13    311.708782\n",
      "14    356.415836\n",
      "15     14.612913\n",
      "16     18.678250\n",
      "17     21.078189\n",
      "18     23.973235\n",
      "19     26.919513\n",
      "20     30.490065\n",
      "21     11.233938\n",
      "22     16.283460\n",
      "23     24.699329\n",
      "24     36.481546\n",
      "25     51.630111\n",
      "26     70.145023\n",
      "27     12.699638\n",
      "28     13.880304\n",
      "29     15.268151\n",
      "30     16.863177\n",
      "31     18.665382\n",
      "32     20.674767\n",
      "33     22.891332\n",
      "34     25.315077\n",
      "35     65.383751\n",
      "36     13.293319\n",
      "37     18.440066\n",
      "38     26.093861\n",
      "39     36.254702\n",
      "40     48.922590\n",
      "41     64.097524\n",
      "42     81.779506\n",
      "43    101.968534\n",
      "44    124.664609\n",
      "45    149.867731\n",
      "46    177.577900\n",
      "47    207.795115\n",
      "48    240.519377\n",
      "49    275.750686\n",
      "50    313.489042\n",
      "51     10.986867\n",
      "52     15.233406\n",
      "53     22.310972\n",
      "54     32.219564\n",
      "dtype: float64\n",
      "ERROR! Session/line number was not unique in database. History logging moved to new session 13\n"
     ]
    }
   ],
   "source": [
    "ypred = result.predict()\n",
    "print(ypred)"
   ]
  },
  {
   "cell_type": "code",
   "execution_count": null,
   "id": "8cf6154f",
   "metadata": {},
   "outputs": [],
   "source": [
    "x1n = np.linspace(20.5, 25, 10)\n",
    "Xnew = np.column_stack((x1n, np.sin(x1n), (x1n - 5) ** 2))\n",
    "Xnew = sm.add_constant(Xnew)\n",
    "ynewpred = olsres.predict(Xnew)  # predict out of sample\n",
    "print(ynewpred)"
   ]
  },
  {
   "cell_type": "code",
   "execution_count": 6,
   "id": "38f7257a",
   "metadata": {},
   "outputs": [
    {
     "name": "stdout",
     "output_type": "stream",
     "text": [
      "Intercept    9.50953\n",
      "Memory_M     1.25667\n",
      "dtype: float64\n"
     ]
    }
   ],
   "source": [
    "print(result.params)"
   ]
  },
  {
   "cell_type": "code",
   "execution_count": null,
   "id": "7ba1cece",
   "metadata": {},
   "outputs": [],
   "source": []
  }
 ],
 "metadata": {
  "kernelspec": {
   "display_name": "Python 3 (ipykernel)",
   "language": "python",
   "name": "python3"
  },
  "language_info": {
   "codemirror_mode": {
    "name": "ipython",
    "version": 3
   },
   "file_extension": ".py",
   "mimetype": "text/x-python",
   "name": "python",
   "nbconvert_exporter": "python",
   "pygments_lexer": "ipython3",
   "version": "3.7.12"
  }
 },
 "nbformat": 4,
 "nbformat_minor": 5
}
