{
 "cells": [
  {
   "cell_type": "code",
   "execution_count": 1,
   "id": "8c53b722",
   "metadata": {},
   "outputs": [
    {
     "data": {
      "application/javascript": [
       "\n",
       "try {\n",
       "require(['notebook/js/codecell'], function(codecell) {\n",
       "  codecell.CodeCell.options_default.highlight_modes[\n",
       "      'magic_text/x-csrc'] = {'reg':[/^%%microblaze/]};\n",
       "  Jupyter.notebook.events.one('kernel_ready.Kernel', function(){\n",
       "      Jupyter.notebook.get_cells().map(function(cell){\n",
       "          if (cell.cell_type == 'code'){ cell.auto_highlight(); } }) ;\n",
       "  });\n",
       "});\n",
       "} catch (e) {};\n"
      ]
     },
     "metadata": {},
     "output_type": "display_data"
    },
    {
     "data": {
      "application/javascript": [
       "\n",
       "try {\n",
       "require(['notebook/js/codecell'], function(codecell) {\n",
       "  codecell.CodeCell.options_default.highlight_modes[\n",
       "      'magic_text/x-csrc'] = {'reg':[/^%%pybind11/]};\n",
       "  Jupyter.notebook.events.one('kernel_ready.Kernel', function(){\n",
       "      Jupyter.notebook.get_cells().map(function(cell){\n",
       "          if (cell.cell_type == 'code'){ cell.auto_highlight(); } }) ;\n",
       "  });\n",
       "});\n",
       "} catch (e) {};\n"
      ]
     },
     "metadata": {},
     "output_type": "display_data"
    },
    {
     "name": "stdout",
     "output_type": "stream",
     "text": [
      "Total number of test images: 25\n",
      "  Dimension of each picture: 256x256\n",
      "Classifying 25 digit pictures ...\n",
      "Overall accuracy: 0.0\n",
      "  Execution time/per picture: 84.6954ms\n",
      "      Throughput: 0.2952FPS\n",
      "Total number of test images: 25\n",
      "  Dimension of each picture: 256x256\n",
      "Classifying 25 digit pictures ...\n",
      "Overall accuracy: 0.16\n",
      "  Execution time/per picture: 88.1899ms\n",
      "      Throughput: 0.2835FPS\n",
      "Total number of test images: 25\n",
      "  Dimension of each picture: 256x256\n",
      "Classifying 25 digit pictures ...\n",
      "Overall accuracy: 0.16\n",
      "  Execution time/per picture: 94.5234ms\n",
      "      Throughput: 0.2645FPS\n",
      "Total number of test images: 25\n",
      "  Dimension of each picture: 256x256\n",
      "Classifying 25 digit pictures ...\n",
      "Overall accuracy: 0.08\n",
      "  Execution time/per picture: 83.5964ms\n",
      "      Throughput: 0.2991FPS\n"
     ]
    }
   ],
   "source": [
    "from pynq_dpu import DpuOverlay\n",
    "from time import time\n",
    "import numpy as np\n",
    "\n",
    "from six.moves import urllib\n",
    "import csv\n",
    "import os\n",
    "from itertools import product\n",
    "\n",
    "\n",
    "model_num = 0\n",
    "with open(\"model_result_vgg16.csv\",\"w\") as csvfile: \n",
    "    writer = csv.writer(csvfile)\n",
    "    writer.writerow([\"index\",\"input_horizontal\",\"input_vertical\",\"step\",\"Execution time\",\"Throughout\"])\n",
    "\n",
    "path = \"./xmodel_vgg16\" \n",
    "files= os.listdir(path) \n",
    "\n",
    "\n",
    "input_shape_range =range(256,512,2)\n",
    "step_range =range(7,11,1)            \n",
    "for shape_x,step in product(input_shape_range,step_range):\n",
    "    shape_y = shape_x\n",
    "    file = \"vgg16_{input_x}_{input_y}_{step}.xmodel\".format(input_x=shape_x,input_y=shape_y,step=step)\n",
    "    if file in files: \n",
    "        model_name = str(file)\n",
    "        if not os.path.isdir(file): \n",
    "            #Prepare the overlay\n",
    "            overlay = DpuOverlay(\"dpu.bit\")\n",
    "            overlay.load_model(\"./xmodel_vgg16/{}\".format(file))\n",
    "\n",
    "            opener = urllib.request.build_opener()\n",
    "            opener.addheaders = [('User-agent', 'Mozilla/5.0')]\n",
    "            urllib.request.install_opener(opener)\n",
    "\n",
    "            #load test data\n",
    "\n",
    "            test_data = np.random.randint(0,255,size=[25,shape_x,shape_y,1])\n",
    "            test_label = np.random.randint(0,10,size=[25,])\n",
    "            test_data = test_data.astype('float32')\n",
    "            test_data /= 255.0\n",
    "            \n",
    "            print(\"Total number of test images: {}\".format(test_data.shape[0]))\n",
    "            print(\"  Dimension of each picture: {}x{}\".format(test_data.shape[1],\n",
    "                                                              test_data.shape[2]))\n",
    "\n",
    "            #use VART \n",
    "            dpu = overlay.runner\n",
    "\n",
    "            inputTensors = dpu.get_input_tensors()\n",
    "            outputTensors = dpu.get_output_tensors()\n",
    "\n",
    "            shapeIn = tuple(inputTensors[0].dims)\n",
    "            shapeOut = tuple(outputTensors[0].dims)\n",
    "            outputSize = int(outputTensors[0].get_data_size() / shapeIn[0])\n",
    "\n",
    "            softmax = np.empty(outputSize)\n",
    "\n",
    "            output_data = [np.empty(shapeOut, dtype=np.float32, order=\"C\")]\n",
    "            input_data = [np.empty(shapeIn, dtype=np.float32, order=\"C\")]\n",
    "            image = input_data[0]\n",
    "\n",
    "            def calculate_softmax(data):\n",
    "                result = np.exp(data)\n",
    "                return result\n",
    "\n",
    "\n",
    "            #Run DPU to make predictions\n",
    "\n",
    "            total = test_data.shape[0]\n",
    "            predictions = np.empty_like(test_label)\n",
    "            print(\"Classifying {} digit pictures ...\".format(total))\n",
    "\n",
    "            start = time()\n",
    "            for i in range(total):\n",
    "                image[0,...] = test_data[i]\n",
    "                job_id = dpu.execute_async(input_data, output_data)\n",
    "                dpu.wait(job_id)\n",
    "                temp = [j.reshape(1, outputSize) for j in output_data]\n",
    "                softmax = calculate_softmax(temp[0][0])\n",
    "                predictions[i] = softmax.argmax()\n",
    "\n",
    "            stop = time()\n",
    "            correct = np.sum(predictions==test_label)\n",
    "            execution_time = (stop-start)*40\n",
    "            print(\"Overall accuracy: {}\".format(correct/total))\n",
    "            print(\"  Execution time/per picture: {:.4f}ms\".format(execution_time))\n",
    "            print(\"      Throughput: {:.4f}FPS\".format(total/execution_time))\n",
    "\n",
    "            with open(\"model_result_vgg16.csv\",\"a+\") as csvfile: \n",
    "                writer = csv.writer(csvfile)\n",
    "                writer.writerows([[model_num,shape_x,shape_y,step,execution_time,total/execution_time],])\n",
    "                model_num += 1\n",
    "\n",
    "\n",
    "            #clean up \n",
    "            del overlay\n",
    "            del dpu"
   ]
  },
  {
   "cell_type": "code",
   "execution_count": 4,
   "id": "2a74396e",
   "metadata": {},
   "outputs": [
    {
     "ename": "NameError",
     "evalue": "name 'dpu' is not defined",
     "output_type": "error",
     "traceback": [
      "\u001b[0;31m---------------------------------------------------------------------------\u001b[0m",
      "\u001b[0;31mNameError\u001b[0m                                 Traceback (most recent call last)",
      "\u001b[0;32m<ipython-input-4-92d73612220e>\u001b[0m in \u001b[0;36m<module>\u001b[0;34m\u001b[0m\n\u001b[1;32m      1\u001b[0m \u001b[0;32mdel\u001b[0m \u001b[0moverlay\u001b[0m\u001b[0;34m\u001b[0m\u001b[0;34m\u001b[0m\u001b[0m\n\u001b[0;32m----> 2\u001b[0;31m \u001b[0;32mdel\u001b[0m \u001b[0mdpu\u001b[0m\u001b[0;34m\u001b[0m\u001b[0;34m\u001b[0m\u001b[0m\n\u001b[0m",
      "\u001b[0;31mNameError\u001b[0m: name 'dpu' is not defined"
     ]
    }
   ],
   "source": [
    "            del overlay\n",
    "            del dpu"
   ]
  },
  {
   "cell_type": "code",
   "execution_count": null,
   "id": "f9180f48",
   "metadata": {},
   "outputs": [],
   "source": []
  }
 ],
 "metadata": {
  "kernelspec": {
   "display_name": "Python 3 (ipykernel)",
   "language": "python",
   "name": "python3"
  },
  "language_info": {
   "codemirror_mode": {
    "name": "ipython",
    "version": 3
   },
   "file_extension": ".py",
   "mimetype": "text/x-python",
   "name": "python",
   "nbconvert_exporter": "python",
   "pygments_lexer": "ipython3",
   "version": "3.9.7"
  }
 },
 "nbformat": 4,
 "nbformat_minor": 5
}
